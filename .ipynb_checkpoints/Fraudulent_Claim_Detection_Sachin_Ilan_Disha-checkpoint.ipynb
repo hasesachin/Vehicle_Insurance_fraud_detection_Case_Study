{
 "cells": [
  {
   "cell_type": "markdown",
   "metadata": {
    "id": "uJ6cv25EDPWV"
   },
   "source": [
    "## **Fraudulent Claim Detection**"
   ]
  },
  {
   "cell_type": "markdown",
   "metadata": {
    "id": "_rLrWLwZDPWW"
   },
   "source": [
    "## Problem Statement\n",
    "Global Insure, a leading insurance company, processes thousands of claims annually. However, a significant percentage of these claims turn out to be fraudulent, resulting in considerable financial losses. The company’s current process for identifying fraudulent claims involves manual inspections, which is time-consuming and inefficient. Fraudulent claims are often detected too late in the process, after the company has already paid out significant amounts. Global Insure wants to improve its fraud detection process using data-driven insights to classify claims as fraudulent or legitimate early in the approval process. This would minimise financial losses and optimise the overall claims handling process.\n",
    "\n",
    "## Business Objective\n",
    "Global Insure wants to build a model to classify insurance claims as either fraudulent or legitimate based on historical claim details and customer profiles. By using features like claim amounts, customer profiles and claim types, the company aims to predict which claims are likely to be fraudulent before they are approved.\n",
    "\n",
    "\n",
    "Based on this assignment, you have to answer the following questions:<br>\n",
    "\n",
    "● How can we analyse historical claim data to detect patterns that indicate fraudulent claims?<br>\n",
    "● Which features are most predictive of fraudulent behaviour?<br>\n",
    "● Can we predict the likelihood of fraud for an incoming claim, based on past data?<br>\n",
    "● What insights can be drawn from the model that can help in improving the fraud detection process?<br>"
   ]
  },
  {
   "cell_type": "markdown",
   "metadata": {
    "id": "dCp1H_XyDPWX"
   },
   "source": [
    "## Assignment Tasks\n",
    "You need to perform the following steps for successfully completing this assignment:\n",
    "1. Data Preparation\n",
    "2. Data Cleaning\n",
    "3. Train Validation Split 70-30\n",
    "4. EDA on Training Data\n",
    "5. EDA on Validation Data (optional)\n",
    "6. Feature Engineering\n",
    "7. Model Building\n",
    "8. Predicting and Model Evaluation"
   ]
  },
  {
   "cell_type": "markdown",
   "metadata": {
    "id": "PPnbScj6sHfw"
   },
   "source": [
    "## Data Dictionary\n",
    "The insurance claims data has 40 Columns and 1000 Rows. Following data dictionary provides the description for each column present in dataset:<br>\n",
    "\n",
    "<table>\n",
    "  <thead>\n",
    "    <tr>\n",
    "      <th>Column Name</th>\n",
    "      <th>Description</th>\n",
    "    </tr>\n",
    "  </thead>\n",
    "  <tbody>\n",
    "    <tr>\n",
    "      <td>months_as_customer</td>\n",
    "      <td>Represents the duration in months that a customer has been associated with the insurance company.</td>\n",
    "    </tr>\n",
    "    <tr>\n",
    "      <td>age</td>\n",
    "      <td>Represents the age of the insured person.</td>\n",
    "    </tr>\n",
    "    <tr>\n",
    "      <td>policy_number</td>\n",
    "      <td>Represents a unique identifier for each insurance policy.</td>\n",
    "    </tr>\n",
    "    <tr>\n",
    "      <td>policy_bind_date</td>\n",
    "      <td>Represents the date when the insurance policy was initiated.</td>\n",
    "    </tr>\n",
    "    <tr>\n",
    "      <td>policy_state</td>\n",
    "      <td>Represents the state where the insurance policy is applicable.</td>\n",
    "    </tr>\n",
    "    <tr>\n",
    "      <td>policy_csl</td>\n",
    "      <td>Represents the combined single limit for the insurance policy.</td>\n",
    "    </tr>\n",
    "    <tr>\n",
    "      <td>policy_deductable</td>\n",
    "      <td>Represents the amount that the insured person needs to pay before the insurance coverage kicks in.</td>\n",
    "    </tr>\n",
    "    <tr>\n",
    "      <td>policy_annual_premium</td>\n",
    "      <td>Represents the yearly cost of the insurance policy.</td>\n",
    "    </tr>\n",
    "    <tr>\n",
    "      <td>umbrella_limit</td>\n",
    "      <td>Represents an additional layer of liability coverage provided beyond the limits of the primary insurance policy.</td>\n",
    "    </tr>\n",
    "    <tr>\n",
    "      <td>insured_zip</td>\n",
    "      <td>Represents the zip code of the insured person.</td>\n",
    "    </tr>\n",
    "    <tr>\n",
    "      <td>insured_sex</td>\n",
    "      <td>Represents the gender of the insured person.</td>\n",
    "    </tr>\n",
    "    <tr>\n",
    "      <td>insured_education_level</td>\n",
    "      <td>Represents the highest educational qualification of the insured person.</td>\n",
    "    </tr>\n",
    "    <tr>\n",
    "      <td>insured_occupation</td>\n",
    "      <td>Represents the profession or job of the insured person.</td>\n",
    "    </tr>\n",
    "    <tr>\n",
    "      <td>insured_hobbies</td>\n",
    "      <td>Represents the hobbies or leisure activities of the insured person.</td>\n",
    "    </tr>\n",
    "    <tr>\n",
    "      <td>insured_relationship</td>\n",
    "      <td>Represents the relationship of the insured person to the policyholder.</td>\n",
    "    </tr>\n",
    "    <tr>\n",
    "      <td>capital-gains</td>\n",
    "      <td>Represents the profit earned from the sale of assets such as stocks, bonds, or real estate.</td>\n",
    "    </tr>\n",
    "    <tr>\n",
    "      <td>capital-loss</td>\n",
    "      <td>Represents the loss incurred from the sale of assets such as stocks, bonds, or real estate.</td>\n",
    "    </tr>\n",
    "    <tr>\n",
    "      <td>incident_date</td>\n",
    "      <td>Represents the date when the incident or accident occurred.</td>\n",
    "    </tr>\n",
    "    <tr>\n",
    "      <td>incident_type</td>\n",
    "      <td>Represents the category or type of incident that led to the claim.</td>\n",
    "    </tr>\n",
    "    <tr>\n",
    "      <td>collision_type</td>\n",
    "      <td>Represents the type of collision that occurred in an accident.</td>\n",
    "    </tr>\n",
    "    <tr>\n",
    "      <td>incident_severity</td>\n",
    "      <td>Represents the extent of damage or injury caused by the incident.</td>\n",
    "    </tr>\n",
    "    <tr>\n",
    "      <td>authorities_contacted</td>\n",
    "      <td>Represents the authorities or agencies that were contacted after the incident.</td>\n",
    "    </tr>\n",
    "    <tr>\n",
    "      <td>incident_state</td>\n",
    "      <td>Represents the state where the incident occurred.</td>\n",
    "    </tr>\n",
    "    <tr>\n",
    "      <td>incident_city</td>\n",
    "      <td>Represents the city where the incident occurred.</td>\n",
    "    </tr>\n",
    "    <tr>\n",
    "      <td>incident_location</td>\n",
    "      <td>Represents the specific location or address where the incident occurred.</td>\n",
    "    </tr>\n",
    "    <tr>\n",
    "      <td>incident_hour_of_the_day</td>\n",
    "      <td>Represents the hour of the day when the incident occurred.</td>\n",
    "    </tr>\n",
    "    <tr>\n",
    "      <td>number_of_vehicles_involved</td>\n",
    "      <td>Represents the total number of vehicles involved in the incident.</td>\n",
    "    </tr>\n",
    "    <tr>\n",
    "      <td>property_damage</td>\n",
    "      <td>Represents whether there was any damage to property in the incident.</td>\n",
    "    </tr>\n",
    "    <tr>\n",
    "      <td>bodily_injuries</td>\n",
    "      <td>Represents the number of bodily injuries resulting from the incident.</td>\n",
    "    </tr>\n",
    "    <tr>\n",
    "      <td>witnesses</td>\n",
    "      <td>Represents the number of witnesses present at the scene of the incident.</td>\n",
    "    </tr>\n",
    "    <tr>\n",
    "      <td>police_report_available</td>\n",
    "      <td>Represents whether a police report is available for the incident.</td>\n",
    "    </tr>\n",
    "    <tr>\n",
    "      <td>total_claim_amount</td>\n",
    "      <td>Represents the total amount claimed by the insured person for the incident.</td>\n",
    "    </tr>\n",
    "    <tr>\n",
    "      <td>injury_claim</td>\n",
    "      <td>Represents the amount claimed for injuries sustained in the incident.</td>\n",
    "    </tr>\n",
    "    <tr>\n",
    "      <td>property_claim</td>\n",
    "      <td>Represents the amount claimed for property damage in the incident.</td>\n",
    "    </tr>\n",
    "    <tr>\n",
    "      <td>vehicle_claim</td>\n",
    "      <td>Represents the amount claimed for vehicle damage in the incident.</td>\n",
    "    </tr>\n",
    "    <tr>\n",
    "      <td>auto_make</td>\n",
    "      <td>Represents the manufacturer of the insured vehicle.</td>\n",
    "    </tr>\n",
    "    <tr>\n",
    "      <td>auto_model</td>\n",
    "      <td>Represents the specific model of the insured vehicle.</td>\n",
    "    </tr>\n",
    "    <tr>\n",
    "      <td>auto_year</td>\n",
    "      <td>Represents the year of manufacture of the insured vehicle.</td>\n",
    "    </tr>\n",
    "    <tr>\n",
    "      <td>fraud_reported</td>\n",
    "      <td>Represents whether the claim was reported as fraudulent or not.</td>\n",
    "    </tr>\n",
    "    <tr>\n",
    "      <td>_c39</td>\n",
    "      <td>Represents an unknown or unspecified variable.</td>\n",
    "    </tr>\n",
    "  </tbody>\n",
    "</table>"
   ]
  },
  {
   "cell_type": "markdown",
   "metadata": {
    "id": "2Hfg3nHjDPWY"
   },
   "source": [
    "## **1. Data Preparation**\n",
    "In this step, read the dataset provided in CSV format and look at basic statistics of the data, including preview of data, dimension of data, column descriptions and data types."
   ]
  },
  {
   "cell_type": "markdown",
   "metadata": {
    "id": "2xZBs5L_DPWY"
   },
   "source": [
    "### **1.0 Import Libraries**"
   ]
  },
  {
   "cell_type": "code",
   "execution_count": 1,
   "metadata": {
    "id": "2xUZYP92DPWY"
   },
   "outputs": [],
   "source": [
    "# Supress unnecessary warnings\n",
    "import warnings\n",
    "warnings.filterwarnings(\"ignore\")"
   ]
  },
  {
   "cell_type": "code",
   "execution_count": 3,
   "metadata": {
    "id": "6glz5HkPDPWZ"
   },
   "outputs": [],
   "source": [
    "# Import necessary libraries\n",
    "import numpy as np\n",
    "import pandas as pd\n",
    "import seaborn as sns\n",
    "import matplotlib.pyplot as plt\n",
    "pd.set_option('display.max_columns',50)\n",
    "pd.set_option('display.max_rows',100)"
   ]
  },
  {
   "cell_type": "markdown",
   "metadata": {
    "id": "D8-RBUdWDPWZ"
   },
   "source": [
    "### **1.1 Load the Data**"
   ]
  },
  {
   "cell_type": "code",
   "execution_count": 6,
   "metadata": {
    "id": "kP0JaSjJDPWZ"
   },
   "outputs": [],
   "source": [
    "# Load the dataset\n",
    "df=pd.read_csv(r'insurance_claims.csv')"
   ]
  },
  {
   "cell_type": "code",
   "execution_count": 8,
   "metadata": {
    "id": "qaR4TkqTDPWZ"
   },
   "outputs": [
    {
     "data": {
      "text/html": [
       "<div>\n",
       "<style scoped>\n",
       "    .dataframe tbody tr th:only-of-type {\n",
       "        vertical-align: middle;\n",
       "    }\n",
       "\n",
       "    .dataframe tbody tr th {\n",
       "        vertical-align: top;\n",
       "    }\n",
       "\n",
       "    .dataframe thead th {\n",
       "        text-align: right;\n",
       "    }\n",
       "</style>\n",
       "<table border=\"1\" class=\"dataframe\">\n",
       "  <thead>\n",
       "    <tr style=\"text-align: right;\">\n",
       "      <th></th>\n",
       "      <th>months_as_customer</th>\n",
       "      <th>age</th>\n",
       "      <th>policy_number</th>\n",
       "      <th>policy_bind_date</th>\n",
       "      <th>policy_state</th>\n",
       "      <th>policy_csl</th>\n",
       "      <th>policy_deductable</th>\n",
       "      <th>policy_annual_premium</th>\n",
       "      <th>umbrella_limit</th>\n",
       "      <th>insured_zip</th>\n",
       "      <th>insured_sex</th>\n",
       "      <th>insured_education_level</th>\n",
       "      <th>insured_occupation</th>\n",
       "      <th>insured_hobbies</th>\n",
       "      <th>insured_relationship</th>\n",
       "      <th>capital-gains</th>\n",
       "      <th>capital-loss</th>\n",
       "      <th>incident_date</th>\n",
       "      <th>incident_type</th>\n",
       "      <th>collision_type</th>\n",
       "      <th>incident_severity</th>\n",
       "      <th>authorities_contacted</th>\n",
       "      <th>incident_state</th>\n",
       "      <th>incident_city</th>\n",
       "      <th>incident_location</th>\n",
       "      <th>incident_hour_of_the_day</th>\n",
       "      <th>number_of_vehicles_involved</th>\n",
       "      <th>property_damage</th>\n",
       "      <th>bodily_injuries</th>\n",
       "      <th>witnesses</th>\n",
       "      <th>police_report_available</th>\n",
       "      <th>total_claim_amount</th>\n",
       "      <th>injury_claim</th>\n",
       "      <th>property_claim</th>\n",
       "      <th>vehicle_claim</th>\n",
       "      <th>auto_make</th>\n",
       "      <th>auto_model</th>\n",
       "      <th>auto_year</th>\n",
       "      <th>fraud_reported</th>\n",
       "      <th>_c39</th>\n",
       "    </tr>\n",
       "  </thead>\n",
       "  <tbody>\n",
       "    <tr>\n",
       "      <th>0</th>\n",
       "      <td>328</td>\n",
       "      <td>48</td>\n",
       "      <td>521585</td>\n",
       "      <td>2014-10-17</td>\n",
       "      <td>OH</td>\n",
       "      <td>250/500</td>\n",
       "      <td>1000</td>\n",
       "      <td>1406.91</td>\n",
       "      <td>0</td>\n",
       "      <td>466132</td>\n",
       "      <td>MALE</td>\n",
       "      <td>MD</td>\n",
       "      <td>craft-repair</td>\n",
       "      <td>sleeping</td>\n",
       "      <td>husband</td>\n",
       "      <td>53300</td>\n",
       "      <td>0</td>\n",
       "      <td>2015-01-25</td>\n",
       "      <td>Single Vehicle Collision</td>\n",
       "      <td>Side Collision</td>\n",
       "      <td>Major Damage</td>\n",
       "      <td>Police</td>\n",
       "      <td>SC</td>\n",
       "      <td>Columbus</td>\n",
       "      <td>9935 4th Drive</td>\n",
       "      <td>5</td>\n",
       "      <td>1</td>\n",
       "      <td>YES</td>\n",
       "      <td>1</td>\n",
       "      <td>2</td>\n",
       "      <td>YES</td>\n",
       "      <td>71610</td>\n",
       "      <td>6510</td>\n",
       "      <td>13020</td>\n",
       "      <td>52080</td>\n",
       "      <td>Saab</td>\n",
       "      <td>92x</td>\n",
       "      <td>2004</td>\n",
       "      <td>Y</td>\n",
       "      <td>NaN</td>\n",
       "    </tr>\n",
       "    <tr>\n",
       "      <th>1</th>\n",
       "      <td>228</td>\n",
       "      <td>42</td>\n",
       "      <td>342868</td>\n",
       "      <td>2006-06-27</td>\n",
       "      <td>IN</td>\n",
       "      <td>250/500</td>\n",
       "      <td>2000</td>\n",
       "      <td>1197.22</td>\n",
       "      <td>5000000</td>\n",
       "      <td>468176</td>\n",
       "      <td>MALE</td>\n",
       "      <td>MD</td>\n",
       "      <td>machine-op-inspct</td>\n",
       "      <td>reading</td>\n",
       "      <td>other-relative</td>\n",
       "      <td>0</td>\n",
       "      <td>0</td>\n",
       "      <td>2015-01-21</td>\n",
       "      <td>Vehicle Theft</td>\n",
       "      <td>?</td>\n",
       "      <td>Minor Damage</td>\n",
       "      <td>Police</td>\n",
       "      <td>VA</td>\n",
       "      <td>Riverwood</td>\n",
       "      <td>6608 MLK Hwy</td>\n",
       "      <td>8</td>\n",
       "      <td>1</td>\n",
       "      <td>?</td>\n",
       "      <td>0</td>\n",
       "      <td>0</td>\n",
       "      <td>?</td>\n",
       "      <td>5070</td>\n",
       "      <td>780</td>\n",
       "      <td>780</td>\n",
       "      <td>3510</td>\n",
       "      <td>Mercedes</td>\n",
       "      <td>E400</td>\n",
       "      <td>2007</td>\n",
       "      <td>Y</td>\n",
       "      <td>NaN</td>\n",
       "    </tr>\n",
       "    <tr>\n",
       "      <th>2</th>\n",
       "      <td>134</td>\n",
       "      <td>29</td>\n",
       "      <td>687698</td>\n",
       "      <td>2000-09-06</td>\n",
       "      <td>OH</td>\n",
       "      <td>100/300</td>\n",
       "      <td>2000</td>\n",
       "      <td>1413.14</td>\n",
       "      <td>5000000</td>\n",
       "      <td>430632</td>\n",
       "      <td>FEMALE</td>\n",
       "      <td>PhD</td>\n",
       "      <td>sales</td>\n",
       "      <td>board-games</td>\n",
       "      <td>own-child</td>\n",
       "      <td>35100</td>\n",
       "      <td>0</td>\n",
       "      <td>2015-02-22</td>\n",
       "      <td>Multi-vehicle Collision</td>\n",
       "      <td>Rear Collision</td>\n",
       "      <td>Minor Damage</td>\n",
       "      <td>Police</td>\n",
       "      <td>NY</td>\n",
       "      <td>Columbus</td>\n",
       "      <td>7121 Francis Lane</td>\n",
       "      <td>7</td>\n",
       "      <td>3</td>\n",
       "      <td>NO</td>\n",
       "      <td>2</td>\n",
       "      <td>3</td>\n",
       "      <td>NO</td>\n",
       "      <td>34650</td>\n",
       "      <td>7700</td>\n",
       "      <td>3850</td>\n",
       "      <td>23100</td>\n",
       "      <td>Dodge</td>\n",
       "      <td>RAM</td>\n",
       "      <td>2007</td>\n",
       "      <td>N</td>\n",
       "      <td>NaN</td>\n",
       "    </tr>\n",
       "    <tr>\n",
       "      <th>3</th>\n",
       "      <td>256</td>\n",
       "      <td>41</td>\n",
       "      <td>227811</td>\n",
       "      <td>1990-05-25</td>\n",
       "      <td>IL</td>\n",
       "      <td>250/500</td>\n",
       "      <td>2000</td>\n",
       "      <td>1415.74</td>\n",
       "      <td>6000000</td>\n",
       "      <td>608117</td>\n",
       "      <td>FEMALE</td>\n",
       "      <td>PhD</td>\n",
       "      <td>armed-forces</td>\n",
       "      <td>board-games</td>\n",
       "      <td>unmarried</td>\n",
       "      <td>48900</td>\n",
       "      <td>-62400</td>\n",
       "      <td>2015-01-10</td>\n",
       "      <td>Single Vehicle Collision</td>\n",
       "      <td>Front Collision</td>\n",
       "      <td>Major Damage</td>\n",
       "      <td>Police</td>\n",
       "      <td>OH</td>\n",
       "      <td>Arlington</td>\n",
       "      <td>6956 Maple Drive</td>\n",
       "      <td>5</td>\n",
       "      <td>1</td>\n",
       "      <td>?</td>\n",
       "      <td>1</td>\n",
       "      <td>2</td>\n",
       "      <td>NO</td>\n",
       "      <td>63400</td>\n",
       "      <td>6340</td>\n",
       "      <td>6340</td>\n",
       "      <td>50720</td>\n",
       "      <td>Chevrolet</td>\n",
       "      <td>Tahoe</td>\n",
       "      <td>2014</td>\n",
       "      <td>Y</td>\n",
       "      <td>NaN</td>\n",
       "    </tr>\n",
       "    <tr>\n",
       "      <th>4</th>\n",
       "      <td>228</td>\n",
       "      <td>44</td>\n",
       "      <td>367455</td>\n",
       "      <td>2014-06-06</td>\n",
       "      <td>IL</td>\n",
       "      <td>500/1000</td>\n",
       "      <td>1000</td>\n",
       "      <td>1583.91</td>\n",
       "      <td>6000000</td>\n",
       "      <td>610706</td>\n",
       "      <td>MALE</td>\n",
       "      <td>Associate</td>\n",
       "      <td>sales</td>\n",
       "      <td>board-games</td>\n",
       "      <td>unmarried</td>\n",
       "      <td>66000</td>\n",
       "      <td>-46000</td>\n",
       "      <td>2015-02-17</td>\n",
       "      <td>Vehicle Theft</td>\n",
       "      <td>?</td>\n",
       "      <td>Minor Damage</td>\n",
       "      <td>NaN</td>\n",
       "      <td>NY</td>\n",
       "      <td>Arlington</td>\n",
       "      <td>3041 3rd Ave</td>\n",
       "      <td>20</td>\n",
       "      <td>1</td>\n",
       "      <td>NO</td>\n",
       "      <td>0</td>\n",
       "      <td>1</td>\n",
       "      <td>NO</td>\n",
       "      <td>6500</td>\n",
       "      <td>1300</td>\n",
       "      <td>650</td>\n",
       "      <td>4550</td>\n",
       "      <td>Accura</td>\n",
       "      <td>RSX</td>\n",
       "      <td>2009</td>\n",
       "      <td>N</td>\n",
       "      <td>NaN</td>\n",
       "    </tr>\n",
       "  </tbody>\n",
       "</table>\n",
       "</div>"
      ],
      "text/plain": [
       "   months_as_customer  age  policy_number policy_bind_date policy_state  \\\n",
       "0                 328   48         521585       2014-10-17           OH   \n",
       "1                 228   42         342868       2006-06-27           IN   \n",
       "2                 134   29         687698       2000-09-06           OH   \n",
       "3                 256   41         227811       1990-05-25           IL   \n",
       "4                 228   44         367455       2014-06-06           IL   \n",
       "\n",
       "  policy_csl  policy_deductable  policy_annual_premium  umbrella_limit  \\\n",
       "0    250/500               1000                1406.91               0   \n",
       "1    250/500               2000                1197.22         5000000   \n",
       "2    100/300               2000                1413.14         5000000   \n",
       "3    250/500               2000                1415.74         6000000   \n",
       "4   500/1000               1000                1583.91         6000000   \n",
       "\n",
       "   insured_zip insured_sex insured_education_level insured_occupation  \\\n",
       "0       466132        MALE                      MD       craft-repair   \n",
       "1       468176        MALE                      MD  machine-op-inspct   \n",
       "2       430632      FEMALE                     PhD              sales   \n",
       "3       608117      FEMALE                     PhD       armed-forces   \n",
       "4       610706        MALE               Associate              sales   \n",
       "\n",
       "  insured_hobbies insured_relationship  capital-gains  capital-loss  \\\n",
       "0        sleeping              husband          53300             0   \n",
       "1         reading       other-relative              0             0   \n",
       "2     board-games            own-child          35100             0   \n",
       "3     board-games            unmarried          48900        -62400   \n",
       "4     board-games            unmarried          66000        -46000   \n",
       "\n",
       "  incident_date             incident_type   collision_type incident_severity  \\\n",
       "0    2015-01-25  Single Vehicle Collision   Side Collision      Major Damage   \n",
       "1    2015-01-21             Vehicle Theft                ?      Minor Damage   \n",
       "2    2015-02-22   Multi-vehicle Collision   Rear Collision      Minor Damage   \n",
       "3    2015-01-10  Single Vehicle Collision  Front Collision      Major Damage   \n",
       "4    2015-02-17             Vehicle Theft                ?      Minor Damage   \n",
       "\n",
       "  authorities_contacted incident_state incident_city  incident_location  \\\n",
       "0                Police             SC      Columbus     9935 4th Drive   \n",
       "1                Police             VA     Riverwood       6608 MLK Hwy   \n",
       "2                Police             NY      Columbus  7121 Francis Lane   \n",
       "3                Police             OH     Arlington   6956 Maple Drive   \n",
       "4                   NaN             NY     Arlington       3041 3rd Ave   \n",
       "\n",
       "   incident_hour_of_the_day  number_of_vehicles_involved property_damage  \\\n",
       "0                         5                            1             YES   \n",
       "1                         8                            1               ?   \n",
       "2                         7                            3              NO   \n",
       "3                         5                            1               ?   \n",
       "4                        20                            1              NO   \n",
       "\n",
       "   bodily_injuries  witnesses police_report_available  total_claim_amount  \\\n",
       "0                1          2                     YES               71610   \n",
       "1                0          0                       ?                5070   \n",
       "2                2          3                      NO               34650   \n",
       "3                1          2                      NO               63400   \n",
       "4                0          1                      NO                6500   \n",
       "\n",
       "   injury_claim  property_claim  vehicle_claim  auto_make auto_model  \\\n",
       "0          6510           13020          52080       Saab        92x   \n",
       "1           780             780           3510   Mercedes       E400   \n",
       "2          7700            3850          23100      Dodge        RAM   \n",
       "3          6340            6340          50720  Chevrolet      Tahoe   \n",
       "4          1300             650           4550     Accura        RSX   \n",
       "\n",
       "   auto_year fraud_reported  _c39  \n",
       "0       2004              Y   NaN  \n",
       "1       2007              Y   NaN  \n",
       "2       2007              N   NaN  \n",
       "3       2014              Y   NaN  \n",
       "4       2009              N   NaN  "
      ]
     },
     "execution_count": 8,
     "metadata": {},
     "output_type": "execute_result"
    }
   ],
   "source": [
    "# Check at the first few entries\n",
    "df.head()"
   ]
  },
  {
   "cell_type": "code",
   "execution_count": 10,
   "metadata": {
    "id": "TK9_lipzDPWa"
   },
   "outputs": [
    {
     "data": {
      "text/plain": [
       "(1000, 40)"
      ]
     },
     "execution_count": 10,
     "metadata": {},
     "output_type": "execute_result"
    }
   ],
   "source": [
    "# Inspect the shape of the dataset\n",
    "df.shape"
   ]
  },
  {
   "cell_type": "code",
   "execution_count": 12,
   "metadata": {
    "id": "Fd0PADNIuqov"
   },
   "outputs": [
    {
     "name": "stdout",
     "output_type": "stream",
     "text": [
      "<class 'pandas.core.frame.DataFrame'>\n",
      "RangeIndex: 1000 entries, 0 to 999\n",
      "Data columns (total 40 columns):\n",
      " #   Column                       Non-Null Count  Dtype  \n",
      "---  ------                       --------------  -----  \n",
      " 0   months_as_customer           1000 non-null   int64  \n",
      " 1   age                          1000 non-null   int64  \n",
      " 2   policy_number                1000 non-null   int64  \n",
      " 3   policy_bind_date             1000 non-null   object \n",
      " 4   policy_state                 1000 non-null   object \n",
      " 5   policy_csl                   1000 non-null   object \n",
      " 6   policy_deductable            1000 non-null   int64  \n",
      " 7   policy_annual_premium        1000 non-null   float64\n",
      " 8   umbrella_limit               1000 non-null   int64  \n",
      " 9   insured_zip                  1000 non-null   int64  \n",
      " 10  insured_sex                  1000 non-null   object \n",
      " 11  insured_education_level      1000 non-null   object \n",
      " 12  insured_occupation           1000 non-null   object \n",
      " 13  insured_hobbies              1000 non-null   object \n",
      " 14  insured_relationship         1000 non-null   object \n",
      " 15  capital-gains                1000 non-null   int64  \n",
      " 16  capital-loss                 1000 non-null   int64  \n",
      " 17  incident_date                1000 non-null   object \n",
      " 18  incident_type                1000 non-null   object \n",
      " 19  collision_type               1000 non-null   object \n",
      " 20  incident_severity            1000 non-null   object \n",
      " 21  authorities_contacted        909 non-null    object \n",
      " 22  incident_state               1000 non-null   object \n",
      " 23  incident_city                1000 non-null   object \n",
      " 24  incident_location            1000 non-null   object \n",
      " 25  incident_hour_of_the_day     1000 non-null   int64  \n",
      " 26  number_of_vehicles_involved  1000 non-null   int64  \n",
      " 27  property_damage              1000 non-null   object \n",
      " 28  bodily_injuries              1000 non-null   int64  \n",
      " 29  witnesses                    1000 non-null   int64  \n",
      " 30  police_report_available      1000 non-null   object \n",
      " 31  total_claim_amount           1000 non-null   int64  \n",
      " 32  injury_claim                 1000 non-null   int64  \n",
      " 33  property_claim               1000 non-null   int64  \n",
      " 34  vehicle_claim                1000 non-null   int64  \n",
      " 35  auto_make                    1000 non-null   object \n",
      " 36  auto_model                   1000 non-null   object \n",
      " 37  auto_year                    1000 non-null   int64  \n",
      " 38  fraud_reported               1000 non-null   object \n",
      " 39  _c39                         0 non-null      float64\n",
      "dtypes: float64(2), int64(17), object(21)\n",
      "memory usage: 312.6+ KB\n"
     ]
    }
   ],
   "source": [
    "# Inspect the features in the dataset\n",
    "df.info()"
   ]
  },
  {
   "cell_type": "markdown",
   "metadata": {
    "id": "YRijmf2EDPWa"
   },
   "source": [
    "## **2. Data Cleaning** <font color = red>[10 marks]</font>"
   ]
  },
  {
   "cell_type": "markdown",
   "metadata": {
    "id": "DxXOACINDPWa"
   },
   "source": [
    "### **2.1 Handle null values** <font color = red>[2 marks]</font>"
   ]
  },
  {
   "cell_type": "markdown",
   "metadata": {
    "id": "kJDjZSkmDPWa"
   },
   "source": [
    "#### **2.1.1** Examine the columns to determine if any value or column needs to be treated <font color=\"red\">[1 Mark]</font>"
   ]
  },
  {
   "cell_type": "code",
   "execution_count": 19,
   "metadata": {},
   "outputs": [
    {
     "data": {
      "text/plain": [
       "1000"
      ]
     },
     "execution_count": 19,
     "metadata": {},
     "output_type": "execute_result"
    }
   ],
   "source": [
    "df.shape[0]"
   ]
  },
  {
   "cell_type": "code",
   "execution_count": 25,
   "metadata": {
    "id": "3B4OtvQlDPWa"
   },
   "outputs": [
    {
     "data": {
      "text/plain": [
       "months_as_customer               0.0\n",
       "age                              0.0\n",
       "policy_number                    0.0\n",
       "policy_bind_date                 0.0\n",
       "policy_state                     0.0\n",
       "policy_csl                       0.0\n",
       "policy_deductable                0.0\n",
       "policy_annual_premium            0.0\n",
       "umbrella_limit                   0.0\n",
       "insured_zip                      0.0\n",
       "insured_sex                      0.0\n",
       "insured_education_level          0.0\n",
       "insured_occupation               0.0\n",
       "insured_hobbies                  0.0\n",
       "insured_relationship             0.0\n",
       "capital-gains                    0.0\n",
       "capital-loss                     0.0\n",
       "incident_date                    0.0\n",
       "incident_type                    0.0\n",
       "collision_type                   0.0\n",
       "incident_severity                0.0\n",
       "authorities_contacted            9.1\n",
       "incident_state                   0.0\n",
       "incident_city                    0.0\n",
       "incident_location                0.0\n",
       "incident_hour_of_the_day         0.0\n",
       "number_of_vehicles_involved      0.0\n",
       "property_damage                  0.0\n",
       "bodily_injuries                  0.0\n",
       "witnesses                        0.0\n",
       "police_report_available          0.0\n",
       "total_claim_amount               0.0\n",
       "injury_claim                     0.0\n",
       "property_claim                   0.0\n",
       "vehicle_claim                    0.0\n",
       "auto_make                        0.0\n",
       "auto_model                       0.0\n",
       "auto_year                        0.0\n",
       "fraud_reported                   0.0\n",
       "_c39                           100.0\n",
       "dtype: float64"
      ]
     },
     "execution_count": 25,
     "metadata": {},
     "output_type": "execute_result"
    }
   ],
   "source": [
    "# Check the number of missing values in each column\n",
    "round(df.isnull().sum()/df.shape[0]*100,2)"
   ]
  },
  {
   "cell_type": "markdown",
   "metadata": {
    "id": "AE6K2iqkDPWb"
   },
   "source": [
    "#### **2.1.2** Handle rows containing null values <font color=\"red\">[1 Mark]</font>"
   ]
  },
  {
   "cell_type": "code",
   "execution_count": 114,
   "metadata": {
    "id": "88PX2r5hDPWb"
   },
   "outputs": [],
   "source": [
    "# Handle the rows containing null values\n",
    "df.drop(['_c39'],axis=1,inplace=True)"
   ]
  },
  {
   "cell_type": "code",
   "execution_count": 116,
   "metadata": {},
   "outputs": [
    {
     "data": {
      "text/plain": [
       "months_as_customer              0\n",
       "age                             0\n",
       "policy_number                   0\n",
       "policy_bind_date                0\n",
       "policy_state                    0\n",
       "policy_csl                      0\n",
       "policy_deductable               0\n",
       "policy_annual_premium           0\n",
       "umbrella_limit                  0\n",
       "insured_zip                     0\n",
       "insured_sex                     0\n",
       "insured_education_level         0\n",
       "insured_occupation              0\n",
       "insured_hobbies                 0\n",
       "insured_relationship            0\n",
       "capital-gains                   0\n",
       "capital-loss                    0\n",
       "incident_date                   0\n",
       "incident_type                   0\n",
       "collision_type                  0\n",
       "incident_severity               0\n",
       "authorities_contacted          91\n",
       "incident_state                  0\n",
       "incident_city                   0\n",
       "incident_location               0\n",
       "incident_hour_of_the_day        0\n",
       "number_of_vehicles_involved     0\n",
       "property_damage                 0\n",
       "bodily_injuries                 0\n",
       "witnesses                       0\n",
       "police_report_available         0\n",
       "total_claim_amount              0\n",
       "injury_claim                    0\n",
       "property_claim                  0\n",
       "vehicle_claim                   0\n",
       "auto_make                       0\n",
       "auto_model                      0\n",
       "auto_year                       0\n",
       "fraud_reported                  0\n",
       "dtype: int64"
      ]
     },
     "execution_count": 116,
     "metadata": {},
     "output_type": "execute_result"
    }
   ],
   "source": [
    "df.isna().sum()"
   ]
  },
  {
   "cell_type": "code",
   "execution_count": 118,
   "metadata": {},
   "outputs": [
    {
     "data": {
      "text/html": [
       "<div>\n",
       "<style scoped>\n",
       "    .dataframe tbody tr th:only-of-type {\n",
       "        vertical-align: middle;\n",
       "    }\n",
       "\n",
       "    .dataframe tbody tr th {\n",
       "        vertical-align: top;\n",
       "    }\n",
       "\n",
       "    .dataframe thead th {\n",
       "        text-align: right;\n",
       "    }\n",
       "</style>\n",
       "<table border=\"1\" class=\"dataframe\">\n",
       "  <thead>\n",
       "    <tr style=\"text-align: right;\">\n",
       "      <th></th>\n",
       "      <th>months_as_customer</th>\n",
       "      <th>age</th>\n",
       "      <th>policy_number</th>\n",
       "      <th>policy_bind_date</th>\n",
       "      <th>policy_state</th>\n",
       "      <th>policy_csl</th>\n",
       "      <th>policy_deductable</th>\n",
       "      <th>policy_annual_premium</th>\n",
       "      <th>umbrella_limit</th>\n",
       "      <th>insured_zip</th>\n",
       "      <th>insured_sex</th>\n",
       "      <th>insured_education_level</th>\n",
       "      <th>insured_occupation</th>\n",
       "      <th>insured_hobbies</th>\n",
       "      <th>insured_relationship</th>\n",
       "      <th>capital-gains</th>\n",
       "      <th>capital-loss</th>\n",
       "      <th>incident_date</th>\n",
       "      <th>incident_type</th>\n",
       "      <th>collision_type</th>\n",
       "      <th>incident_severity</th>\n",
       "      <th>authorities_contacted</th>\n",
       "      <th>incident_state</th>\n",
       "      <th>incident_city</th>\n",
       "      <th>incident_location</th>\n",
       "      <th>incident_hour_of_the_day</th>\n",
       "      <th>number_of_vehicles_involved</th>\n",
       "      <th>property_damage</th>\n",
       "      <th>bodily_injuries</th>\n",
       "      <th>witnesses</th>\n",
       "      <th>police_report_available</th>\n",
       "      <th>total_claim_amount</th>\n",
       "      <th>injury_claim</th>\n",
       "      <th>property_claim</th>\n",
       "      <th>vehicle_claim</th>\n",
       "      <th>auto_make</th>\n",
       "      <th>auto_model</th>\n",
       "      <th>auto_year</th>\n",
       "      <th>fraud_reported</th>\n",
       "    </tr>\n",
       "  </thead>\n",
       "  <tbody>\n",
       "    <tr>\n",
       "      <th>0</th>\n",
       "      <td>328</td>\n",
       "      <td>48</td>\n",
       "      <td>521585</td>\n",
       "      <td>2014-10-17</td>\n",
       "      <td>OH</td>\n",
       "      <td>250/500</td>\n",
       "      <td>1000</td>\n",
       "      <td>1406.91</td>\n",
       "      <td>0</td>\n",
       "      <td>466132</td>\n",
       "      <td>MALE</td>\n",
       "      <td>MD</td>\n",
       "      <td>craft-repair</td>\n",
       "      <td>sleeping</td>\n",
       "      <td>husband</td>\n",
       "      <td>53300</td>\n",
       "      <td>0</td>\n",
       "      <td>2015-01-25</td>\n",
       "      <td>Single Vehicle Collision</td>\n",
       "      <td>Side Collision</td>\n",
       "      <td>Major Damage</td>\n",
       "      <td>Police</td>\n",
       "      <td>SC</td>\n",
       "      <td>Columbus</td>\n",
       "      <td>9935 4th Drive</td>\n",
       "      <td>5</td>\n",
       "      <td>1</td>\n",
       "      <td>YES</td>\n",
       "      <td>1</td>\n",
       "      <td>2</td>\n",
       "      <td>YES</td>\n",
       "      <td>71610</td>\n",
       "      <td>6510</td>\n",
       "      <td>13020</td>\n",
       "      <td>52080</td>\n",
       "      <td>Saab</td>\n",
       "      <td>92x</td>\n",
       "      <td>2004</td>\n",
       "      <td>Y</td>\n",
       "    </tr>\n",
       "    <tr>\n",
       "      <th>1</th>\n",
       "      <td>228</td>\n",
       "      <td>42</td>\n",
       "      <td>342868</td>\n",
       "      <td>2006-06-27</td>\n",
       "      <td>IN</td>\n",
       "      <td>250/500</td>\n",
       "      <td>2000</td>\n",
       "      <td>1197.22</td>\n",
       "      <td>5000000</td>\n",
       "      <td>468176</td>\n",
       "      <td>MALE</td>\n",
       "      <td>MD</td>\n",
       "      <td>machine-op-inspct</td>\n",
       "      <td>reading</td>\n",
       "      <td>other-relative</td>\n",
       "      <td>0</td>\n",
       "      <td>0</td>\n",
       "      <td>2015-01-21</td>\n",
       "      <td>Vehicle Theft</td>\n",
       "      <td>?</td>\n",
       "      <td>Minor Damage</td>\n",
       "      <td>Police</td>\n",
       "      <td>VA</td>\n",
       "      <td>Riverwood</td>\n",
       "      <td>6608 MLK Hwy</td>\n",
       "      <td>8</td>\n",
       "      <td>1</td>\n",
       "      <td>?</td>\n",
       "      <td>0</td>\n",
       "      <td>0</td>\n",
       "      <td>?</td>\n",
       "      <td>5070</td>\n",
       "      <td>780</td>\n",
       "      <td>780</td>\n",
       "      <td>3510</td>\n",
       "      <td>Mercedes</td>\n",
       "      <td>E400</td>\n",
       "      <td>2007</td>\n",
       "      <td>Y</td>\n",
       "    </tr>\n",
       "    <tr>\n",
       "      <th>2</th>\n",
       "      <td>134</td>\n",
       "      <td>29</td>\n",
       "      <td>687698</td>\n",
       "      <td>2000-09-06</td>\n",
       "      <td>OH</td>\n",
       "      <td>100/300</td>\n",
       "      <td>2000</td>\n",
       "      <td>1413.14</td>\n",
       "      <td>5000000</td>\n",
       "      <td>430632</td>\n",
       "      <td>FEMALE</td>\n",
       "      <td>PhD</td>\n",
       "      <td>sales</td>\n",
       "      <td>board-games</td>\n",
       "      <td>own-child</td>\n",
       "      <td>35100</td>\n",
       "      <td>0</td>\n",
       "      <td>2015-02-22</td>\n",
       "      <td>Multi-vehicle Collision</td>\n",
       "      <td>Rear Collision</td>\n",
       "      <td>Minor Damage</td>\n",
       "      <td>Police</td>\n",
       "      <td>NY</td>\n",
       "      <td>Columbus</td>\n",
       "      <td>7121 Francis Lane</td>\n",
       "      <td>7</td>\n",
       "      <td>3</td>\n",
       "      <td>NO</td>\n",
       "      <td>2</td>\n",
       "      <td>3</td>\n",
       "      <td>NO</td>\n",
       "      <td>34650</td>\n",
       "      <td>7700</td>\n",
       "      <td>3850</td>\n",
       "      <td>23100</td>\n",
       "      <td>Dodge</td>\n",
       "      <td>RAM</td>\n",
       "      <td>2007</td>\n",
       "      <td>N</td>\n",
       "    </tr>\n",
       "    <tr>\n",
       "      <th>3</th>\n",
       "      <td>256</td>\n",
       "      <td>41</td>\n",
       "      <td>227811</td>\n",
       "      <td>1990-05-25</td>\n",
       "      <td>IL</td>\n",
       "      <td>250/500</td>\n",
       "      <td>2000</td>\n",
       "      <td>1415.74</td>\n",
       "      <td>6000000</td>\n",
       "      <td>608117</td>\n",
       "      <td>FEMALE</td>\n",
       "      <td>PhD</td>\n",
       "      <td>armed-forces</td>\n",
       "      <td>board-games</td>\n",
       "      <td>unmarried</td>\n",
       "      <td>48900</td>\n",
       "      <td>-62400</td>\n",
       "      <td>2015-01-10</td>\n",
       "      <td>Single Vehicle Collision</td>\n",
       "      <td>Front Collision</td>\n",
       "      <td>Major Damage</td>\n",
       "      <td>Police</td>\n",
       "      <td>OH</td>\n",
       "      <td>Arlington</td>\n",
       "      <td>6956 Maple Drive</td>\n",
       "      <td>5</td>\n",
       "      <td>1</td>\n",
       "      <td>?</td>\n",
       "      <td>1</td>\n",
       "      <td>2</td>\n",
       "      <td>NO</td>\n",
       "      <td>63400</td>\n",
       "      <td>6340</td>\n",
       "      <td>6340</td>\n",
       "      <td>50720</td>\n",
       "      <td>Chevrolet</td>\n",
       "      <td>Tahoe</td>\n",
       "      <td>2014</td>\n",
       "      <td>Y</td>\n",
       "    </tr>\n",
       "    <tr>\n",
       "      <th>4</th>\n",
       "      <td>228</td>\n",
       "      <td>44</td>\n",
       "      <td>367455</td>\n",
       "      <td>2014-06-06</td>\n",
       "      <td>IL</td>\n",
       "      <td>500/1000</td>\n",
       "      <td>1000</td>\n",
       "      <td>1583.91</td>\n",
       "      <td>6000000</td>\n",
       "      <td>610706</td>\n",
       "      <td>MALE</td>\n",
       "      <td>Associate</td>\n",
       "      <td>sales</td>\n",
       "      <td>board-games</td>\n",
       "      <td>unmarried</td>\n",
       "      <td>66000</td>\n",
       "      <td>-46000</td>\n",
       "      <td>2015-02-17</td>\n",
       "      <td>Vehicle Theft</td>\n",
       "      <td>?</td>\n",
       "      <td>Minor Damage</td>\n",
       "      <td>NaN</td>\n",
       "      <td>NY</td>\n",
       "      <td>Arlington</td>\n",
       "      <td>3041 3rd Ave</td>\n",
       "      <td>20</td>\n",
       "      <td>1</td>\n",
       "      <td>NO</td>\n",
       "      <td>0</td>\n",
       "      <td>1</td>\n",
       "      <td>NO</td>\n",
       "      <td>6500</td>\n",
       "      <td>1300</td>\n",
       "      <td>650</td>\n",
       "      <td>4550</td>\n",
       "      <td>Accura</td>\n",
       "      <td>RSX</td>\n",
       "      <td>2009</td>\n",
       "      <td>N</td>\n",
       "    </tr>\n",
       "  </tbody>\n",
       "</table>\n",
       "</div>"
      ],
      "text/plain": [
       "   months_as_customer  age  policy_number policy_bind_date policy_state  \\\n",
       "0                 328   48         521585       2014-10-17           OH   \n",
       "1                 228   42         342868       2006-06-27           IN   \n",
       "2                 134   29         687698       2000-09-06           OH   \n",
       "3                 256   41         227811       1990-05-25           IL   \n",
       "4                 228   44         367455       2014-06-06           IL   \n",
       "\n",
       "  policy_csl  policy_deductable  policy_annual_premium  umbrella_limit  \\\n",
       "0    250/500               1000                1406.91               0   \n",
       "1    250/500               2000                1197.22         5000000   \n",
       "2    100/300               2000                1413.14         5000000   \n",
       "3    250/500               2000                1415.74         6000000   \n",
       "4   500/1000               1000                1583.91         6000000   \n",
       "\n",
       "   insured_zip insured_sex insured_education_level insured_occupation  \\\n",
       "0       466132        MALE                      MD       craft-repair   \n",
       "1       468176        MALE                      MD  machine-op-inspct   \n",
       "2       430632      FEMALE                     PhD              sales   \n",
       "3       608117      FEMALE                     PhD       armed-forces   \n",
       "4       610706        MALE               Associate              sales   \n",
       "\n",
       "  insured_hobbies insured_relationship  capital-gains  capital-loss  \\\n",
       "0        sleeping              husband          53300             0   \n",
       "1         reading       other-relative              0             0   \n",
       "2     board-games            own-child          35100             0   \n",
       "3     board-games            unmarried          48900        -62400   \n",
       "4     board-games            unmarried          66000        -46000   \n",
       "\n",
       "  incident_date             incident_type   collision_type incident_severity  \\\n",
       "0    2015-01-25  Single Vehicle Collision   Side Collision      Major Damage   \n",
       "1    2015-01-21             Vehicle Theft                ?      Minor Damage   \n",
       "2    2015-02-22   Multi-vehicle Collision   Rear Collision      Minor Damage   \n",
       "3    2015-01-10  Single Vehicle Collision  Front Collision      Major Damage   \n",
       "4    2015-02-17             Vehicle Theft                ?      Minor Damage   \n",
       "\n",
       "  authorities_contacted incident_state incident_city  incident_location  \\\n",
       "0                Police             SC      Columbus     9935 4th Drive   \n",
       "1                Police             VA     Riverwood       6608 MLK Hwy   \n",
       "2                Police             NY      Columbus  7121 Francis Lane   \n",
       "3                Police             OH     Arlington   6956 Maple Drive   \n",
       "4                   NaN             NY     Arlington       3041 3rd Ave   \n",
       "\n",
       "   incident_hour_of_the_day  number_of_vehicles_involved property_damage  \\\n",
       "0                         5                            1             YES   \n",
       "1                         8                            1               ?   \n",
       "2                         7                            3              NO   \n",
       "3                         5                            1               ?   \n",
       "4                        20                            1              NO   \n",
       "\n",
       "   bodily_injuries  witnesses police_report_available  total_claim_amount  \\\n",
       "0                1          2                     YES               71610   \n",
       "1                0          0                       ?                5070   \n",
       "2                2          3                      NO               34650   \n",
       "3                1          2                      NO               63400   \n",
       "4                0          1                      NO                6500   \n",
       "\n",
       "   injury_claim  property_claim  vehicle_claim  auto_make auto_model  \\\n",
       "0          6510           13020          52080       Saab        92x   \n",
       "1           780             780           3510   Mercedes       E400   \n",
       "2          7700            3850          23100      Dodge        RAM   \n",
       "3          6340            6340          50720  Chevrolet      Tahoe   \n",
       "4          1300             650           4550     Accura        RSX   \n",
       "\n",
       "   auto_year fraud_reported  \n",
       "0       2004              Y  \n",
       "1       2007              Y  \n",
       "2       2007              N  \n",
       "3       2014              Y  \n",
       "4       2009              N  "
      ]
     },
     "execution_count": 118,
     "metadata": {},
     "output_type": "execute_result"
    }
   ],
   "source": [
    "df.head()"
   ]
  },
  {
   "cell_type": "code",
   "execution_count": 124,
   "metadata": {},
   "outputs": [
    {
     "name": "stdout",
     "output_type": "stream",
     "text": [
      "     months_as_customer  age  policy_number policy_bind_date policy_state  \\\n",
      "4                   228   44         367455       2014-06-06           IL   \n",
      "13                  121   34         626808       2012-10-26           OH   \n",
      "27                  202   34         608513       2002-07-18           IN   \n",
      "37                  289   49         933293       1993-02-03           IL   \n",
      "51                   91   27         537546       1994-08-20           IL   \n",
      "52                  217   39         394975       2002-06-02           IN   \n",
      "57                   94   32         307195       1995-10-18           IN   \n",
      "69                  338   49         348209       1994-02-22           IN   \n",
      "78                  194   39         627540       2010-05-21           OH   \n",
      "81                  244   40         645258       1997-07-04           OH   \n",
      "83                  200   35         960680       1994-08-21           IN   \n",
      "88                   31   36         679370       1999-08-15           IL   \n",
      "92                  207   42         918629       2000-10-03           IL   \n",
      "95                   80   25         992145       2012-03-01           IL   \n",
      "98                  295   48         740019       2009-06-17           OH   \n",
      "99                  239   42         246882       1999-09-20           IL   \n",
      "105                 295   49         872814       1992-06-13           IL   \n",
      "114                 390   51         143626       1999-09-29           OH   \n",
      "141                 287   41         456604       2004-03-29           IL   \n",
      "142                 122   34         139872       2006-06-01           IN   \n",
      "157                 428   59         299796       1999-09-29           IN   \n",
      "169                  47   37         962591       2008-03-16           IN   \n",
      "174                 294   44         477177       1990-08-15           IL   \n",
      "179                 235   39         651861       2011-01-07           IL   \n",
      "190                 449   57         293794       1999-04-17           OH   \n",
      "197                 223   43         976971       2002-04-19           OH   \n",
      "211                 210   37         218684       2006-08-05           IN   \n",
      "217                  38   28         970607       1995-03-28           OH   \n",
      "242                 190   40         390381       2007-01-27           OH   \n",
      "244                  95   28         208298       1990-11-03           OH   \n",
      "248                 101   27         326322       2007-02-10           IL   \n",
      "260                 122   29         283925       1991-11-21           OH   \n",
      "271                 271   40         873114       1995-12-07           IL   \n",
      "287                 219   40         786957       2006-10-29           OH   \n",
      "298                 194   35         275092       2012-03-14           IL   \n",
      "332                  85   25         159768       2008-09-03           IN   \n",
      "333                 101   26         865839       1991-08-02           IL   \n",
      "343                 334   47         156694       2001-05-24           IL   \n",
      "362                 150   30         354481       2004-11-17           IN   \n",
      "365                 162   31         386690       2006-02-21           IN   \n",
      "366                 154   36         979285       2003-12-17           IL   \n",
      "373                 140   31         388671       1997-05-01           OH   \n",
      "395                 146   31         411289       1997-09-16           OH   \n",
      "409                 265   45         985924       1998-10-28           OH   \n",
      "410                 283   43         631565       1997-07-14           IN   \n",
      "414                 210   39         620020       1997-06-21           OH   \n",
      "439                  61   29         180720       1995-03-14           IN   \n",
      "443                 120   34         312940       2001-10-27           IN   \n",
      "444                 144   36         855186       1993-10-31           IN   \n",
      "452                 101   33         552788       1991-09-03           IL   \n",
      "473                 300   49         795847       1995-12-17           IL   \n",
      "490                 191   33         585324       2008-02-25           OH   \n",
      "533                 339   49         840806       1994-02-14           IN   \n",
      "538                 478   63         852002       2009-06-29           IL   \n",
      "585                 180   35         464234       2005-07-17           IL   \n",
      "624                 127   31         856153       2002-07-09           OH   \n",
      "635                 140   35         155912       2008-03-21           OH   \n",
      "648                 112   32         757352       1999-12-21           OH   \n",
      "674                  25   38         944953       1995-12-07           OH   \n",
      "677                 125   31         205134       2012-12-02           IN   \n",
      "686                 190   35         284836       2008-11-05           IN   \n",
      "702                 396   57         587498       1996-10-15           IL   \n",
      "711                  64   30         159243       1991-09-19           IL   \n",
      "721                 130   34         153298       2009-03-23           OH   \n",
      "726                 267   43         369226       2002-02-10           OH   \n",
      "739                 194   34         884365       1994-05-17           IN   \n",
      "782                 233   41         728491       1997-08-30           OH   \n",
      "783                 122   33         553436       1991-06-03           IL   \n",
      "790                 225   39         607259       1996-04-08           OH   \n",
      "799                  34   24         482404       2011-06-18           IN   \n",
      "804                 267   46         362843       2004-08-09           OH   \n",
      "811                 114   30         488037       2007-07-11           OH   \n",
      "813                 282   48         886473       1991-03-10           OH   \n",
      "820                  65   29         476839       1990-08-09           IL   \n",
      "832                 295   46         863749       2009-12-05           IN   \n",
      "835                 370   55         528259       2012-12-22           IN   \n",
      "837                   9   24         326180       2002-05-25           IL   \n",
      "840                 253   44         516182       2007-05-12           OH   \n",
      "871                 133   34         467841       1994-10-11           IN   \n",
      "887                 441   55         669501       2009-07-29           IN   \n",
      "892                 215   35         330119       2004-06-15           IL   \n",
      "893                  41   33         164464       2010-09-26           OH   \n",
      "894                  45   31         927354       1990-09-15           IN   \n",
      "896                 246   45         272910       1999-08-12           IN   \n",
      "899                 127   34         291544       2006-08-02           OH   \n",
      "916                 186   38         727443       2013-07-01           OH   \n",
      "940                 308   47         720356       2013-09-16           OH   \n",
      "942                 108   31         148498       2002-01-04           IN   \n",
      "950                 101   27         557218       1997-11-23           IL   \n",
      "953                 229   43         791425       1997-06-18           IN   \n",
      "994                 141   30         681486       2007-03-24           IN   \n",
      "\n",
      "    policy_csl  policy_deductable  policy_annual_premium  umbrella_limit  \\\n",
      "4     500/1000               1000                1583.91         6000000   \n",
      "13     100/300               1000                 936.61               0   \n",
      "27     100/300                500                 848.07         3000000   \n",
      "37    500/1000               2000                1222.48               0   \n",
      "51     100/300               2000                1073.83               0   \n",
      "52     100/300               1000                1530.52               0   \n",
      "57    500/1000               1000                1414.74               0   \n",
      "69    500/1000               1000                1279.08               0   \n",
      "78    500/1000               1000                1489.24         6000000   \n",
      "81    500/1000               2000                1267.81         5000000   \n",
      "83     250/500               2000                1318.06               0   \n",
      "88    500/1000               2000                1318.24         9000000   \n",
      "92     250/500               2000                1322.78               0   \n",
      "95     100/300               2000                1075.18         5000000   \n",
      "98     250/500               1000                1148.73               0   \n",
      "99     100/300               1000                 969.50               0   \n",
      "105    100/300                500                1141.62               0   \n",
      "114    250/500               2000                1124.38               0   \n",
      "141   500/1000               2000                 968.74               0   \n",
      "142    250/500               1000                1220.71               0   \n",
      "157    250/500                500                1344.36         7000000   \n",
      "169    250/500               2000                1241.97               0   \n",
      "174    100/300               1000                1226.49               0   \n",
      "179    100/300                500                1046.58         4000000   \n",
      "190    250/500               2000                1440.68               0   \n",
      "197    250/500                500                1734.09               0   \n",
      "211   500/1000               2000                1048.46               0   \n",
      "217    250/500               1000                1019.44               0   \n",
      "242   500/1000               2000                 965.21               0   \n",
      "244    250/500               1000                 773.99               0   \n",
      "248    250/500               1000                 433.33               0   \n",
      "260    250/500               1000                1629.94               0   \n",
      "271    100/300               1000                1251.65               0   \n",
      "287    100/300                500                1134.91               0   \n",
      "298   500/1000                500                1416.24               0   \n",
      "332    250/500                500                1259.02               0   \n",
      "333   500/1000               1000                1371.88               0   \n",
      "343   500/1000                500                1238.89               0   \n",
      "362    100/300               1000                1342.02               0   \n",
      "365    100/300               1000                1050.24               0   \n",
      "366    250/500               2000                1313.51         7000000   \n",
      "373    250/500               2000                1554.86         6000000   \n",
      "395    250/500               2000                1082.72               0   \n",
      "409    250/500                500                 972.50               0   \n",
      "410    100/300               2000                1161.91               0   \n",
      "414   500/1000               1000                 984.45               0   \n",
      "439    250/500               1000                1115.27               0   \n",
      "443   500/1000               1000                1056.71               0   \n",
      "444   500/1000               2000                1255.68         6000000   \n",
      "452   500/1000               1000                1313.64               0   \n",
      "473    100/300               1000                1441.21               0   \n",
      "490   500/1000               2000                1551.61               0   \n",
      "533   500/1000               2000                1570.77               0   \n",
      "538    250/500               1000                1292.30               0   \n",
      "585   500/1000               1000                1252.48               0   \n",
      "624   500/1000                500                1255.02               0   \n",
      "635    100/300               1000                1520.78               0   \n",
      "648   500/1000               1000                1238.92               0   \n",
      "674    250/500               1000                1540.91         7000000   \n",
      "677   500/1000                500                1220.86               0   \n",
      "686    250/500                500                1484.72         5000000   \n",
      "702   500/1000                500                1351.72               0   \n",
      "711    250/500               2000                1681.01               0   \n",
      "721    100/300                500                 990.11               0   \n",
      "726    250/500                500                1300.68               0   \n",
      "739    100/300               1000                1423.34               0   \n",
      "782   500/1000               2000                1615.14               0   \n",
      "783    250/500                500                1236.50               0   \n",
      "790    250/500                500                1390.72               0   \n",
      "799   500/1000               2000                1550.53               0   \n",
      "804    250/500               2000                1111.17               0   \n",
      "811    250/500               1000                1173.25               0   \n",
      "813   500/1000               2000                1422.56         7000000   \n",
      "820    250/500               1000                1726.91               0   \n",
      "832    250/500                500                1265.84               0   \n",
      "835   500/1000               2000                1389.13         7000000   \n",
      "837    100/300               2000                1304.46               0   \n",
      "840    100/300               2000                 719.52               0   \n",
      "871   500/1000                500                1074.07               0   \n",
      "887    250/500                500                1270.29         4000000   \n",
      "892   500/1000               1000                1125.40               0   \n",
      "893    250/500                500                1294.41               0   \n",
      "894    100/300                500                1459.50               0   \n",
      "896    250/500                500                1594.37               0   \n",
      "899   500/1000                500                1319.97               0   \n",
      "916    100/300                500                 922.85               0   \n",
      "940    100/300               1000                1013.61         6000000   \n",
      "942    250/500               2000                1112.04         6000000   \n",
      "950   500/1000                500                 982.70         6000000   \n",
      "953    250/500               2000                1585.54               0   \n",
      "994   500/1000               1000                1347.04               0   \n",
      "\n",
      "     insured_zip insured_sex insured_education_level insured_occupation  \\\n",
      "4         610706        MALE               Associate              sales   \n",
      "13        464652      FEMALE                      MD       armed-forces   \n",
      "27        607730        MALE                      JD    exec-managerial   \n",
      "37        620757      FEMALE                      JD    priv-house-serv   \n",
      "51        609930      FEMALE                      JD    farming-fishing   \n",
      "52        603993        MALE                 College       armed-forces   \n",
      "57        464691      FEMALE                 Masters       adm-clerical   \n",
      "69        449718        MALE                      MD      other-service   \n",
      "78        608335      FEMALE                      JD      other-service   \n",
      "81        603123      FEMALE                 Masters    exec-managerial   \n",
      "83        618498        MALE             High School    exec-managerial   \n",
      "88        601748      FEMALE                 College     prof-specialty   \n",
      "92        453277        MALE                     PhD    farming-fishing   \n",
      "95        601112      FEMALE                     PhD       armed-forces   \n",
      "98        439787      FEMALE                 College  machine-op-inspct   \n",
      "99        464839        MALE                 College    exec-managerial   \n",
      "105       451672        MALE                 College     prof-specialty   \n",
      "114       618316        MALE               Associate       armed-forces   \n",
      "141       477519        MALE                 Masters   transport-moving   \n",
      "142       603639        MALE                     PhD  machine-op-inspct   \n",
      "157       473329      FEMALE                      JD     prof-specialty   \n",
      "169       430104        MALE             High School      other-service   \n",
      "174       460308      FEMALE                     PhD    farming-fishing   \n",
      "179       434982        MALE                      MD       tech-support   \n",
      "190       442395        MALE               Associate       tech-support   \n",
      "197       451400      FEMALE                      MD       adm-clerical   \n",
      "211       466676        MALE             High School    priv-house-serv   \n",
      "217       437387        MALE                 Masters   transport-moving   \n",
      "242       610354      FEMALE                      JD    exec-managerial   \n",
      "244       458727        MALE               Associate       armed-forces   \n",
      "248       603269        MALE                 Masters  machine-op-inspct   \n",
      "260       620104      FEMALE                 Masters    priv-house-serv   \n",
      "271       433683      FEMALE               Associate      other-service   \n",
      "287       452735      FEMALE               Associate   transport-moving   \n",
      "298       441659      FEMALE                      MD       adm-clerical   \n",
      "332       439534      FEMALE                      JD       tech-support   \n",
      "333       462420      FEMALE                      MD     prof-specialty   \n",
      "343       600561        MALE                 Masters    protective-serv   \n",
      "362       608425        MALE                      MD     prof-specialty   \n",
      "365       456789      FEMALE                 Masters       adm-clerical   \n",
      "366       600904      FEMALE                 Masters    exec-managerial   \n",
      "373       608758      FEMALE                      JD       armed-forces   \n",
      "395       478661      FEMALE                     PhD  machine-op-inspct   \n",
      "409       469895      FEMALE                 College    exec-managerial   \n",
      "410       457722      FEMALE               Associate       adm-clerical   \n",
      "414       474998        MALE               Associate       armed-forces   \n",
      "439       613816        MALE                      JD  handlers-cleaners   \n",
      "443       464630      FEMALE                      JD    protective-serv   \n",
      "444       466303      FEMALE               Associate              sales   \n",
      "452       438617      FEMALE                 College    priv-house-serv   \n",
      "473       609322      FEMALE                     PhD    farming-fishing   \n",
      "490       470670        MALE             High School       armed-forces   \n",
      "533       441142        MALE                      JD       adm-clerical   \n",
      "538       479724        MALE             High School       adm-clerical   \n",
      "585       432148        MALE                      MD  machine-op-inspct   \n",
      "624       462250        MALE               Associate              sales   \n",
      "635       470538      FEMALE             High School       craft-repair   \n",
      "648       453400        MALE               Associate      other-service   \n",
      "674       608807        MALE                 College       adm-clerical   \n",
      "677       436784        MALE                      JD      other-service   \n",
      "686       432699      FEMALE             High School       tech-support   \n",
      "702       612102        MALE             High School       tech-support   \n",
      "711       446174        MALE                      JD    protective-serv   \n",
      "721       442666        MALE                 Masters              sales   \n",
      "726       600418        MALE                     PhD       adm-clerical   \n",
      "739       454399        MALE               Associate              sales   \n",
      "782       606638      FEMALE               Associate       tech-support   \n",
      "783       619620        MALE                     PhD      other-service   \n",
      "790       448949        MALE                 Masters       tech-support   \n",
      "799       435632      FEMALE                      MD       armed-forces   \n",
      "804       469438        MALE                      MD       craft-repair   \n",
      "811       442936      FEMALE                 Masters    protective-serv   \n",
      "813       473705      FEMALE                      MD     prof-specialty   \n",
      "820       456570        MALE             High School      other-service   \n",
      "832       605743      FEMALE                      JD     prof-specialty   \n",
      "835       456203        MALE                      JD      other-service   \n",
      "837       473349      FEMALE                     PhD  machine-op-inspct   \n",
      "840       606606      FEMALE             High School    farming-fishing   \n",
      "871       440833      FEMALE                      JD     prof-specialty   \n",
      "887       449421        MALE                 College       armed-forces   \n",
      "892       606144        MALE                 Masters       adm-clerical   \n",
      "893       476315        MALE             High School   transport-moving   \n",
      "894       475891        MALE                      MD    priv-house-serv   \n",
      "896       606283        MALE               Associate    exec-managerial   \n",
      "899       604681      FEMALE               Associate       craft-repair   \n",
      "916       471148        MALE             High School       adm-clerical   \n",
      "940       452349      FEMALE               Associate       craft-repair   \n",
      "942       472209      FEMALE                     PhD      other-service   \n",
      "950       440865      FEMALE                 College   transport-moving   \n",
      "953       463153        MALE             High School    protective-serv   \n",
      "994       430665        MALE             High School              sales   \n",
      "\n",
      "    insured_hobbies insured_relationship  capital-gains  capital-loss  \\\n",
      "4       board-games            unmarried          66000        -46000   \n",
      "13   bungie-jumping                 wife          52800        -32800   \n",
      "27            chess        not-in-family          31000        -30200   \n",
      "37             golf            unmarried              0             0   \n",
      "51             polo              husband              0             0   \n",
      "52       basketball        not-in-family              0             0   \n",
      "57           hiking            own-child              0             0   \n",
      "69         kayaking            own-child              0        -51500   \n",
      "78         kayaking                 wife              0        -45000   \n",
      "81      video-games                 wife              0             0   \n",
      "83      video-games                 wife          57300        -80600   \n",
      "88         kayaking        not-in-family              0        -78600   \n",
      "92         yachting            own-child          55200             0   \n",
      "95         exercise              husband          67700        -58400   \n",
      "98         kayaking                 wife              0             0   \n",
      "99          reading        not-in-family              0             0   \n",
      "105        kayaking              husband          34300        -24300   \n",
      "114         reading       other-relative              0             0   \n",
      "141     video-games                 wife              0        -49000   \n",
      "142     video-games            own-child          58600        -28700   \n",
      "157          hiking       other-relative              0             0   \n",
      "169          movies        not-in-family          75400             0   \n",
      "174        kayaking            unmarried          53900             0   \n",
      "179        exercise                 wife              0        -31700   \n",
      "190          movies            own-child          25000             0   \n",
      "197         camping        not-in-family              0             0   \n",
      "211       skydiving        not-in-family          59900             0   \n",
      "217        yachting        not-in-family              0        -39700   \n",
      "242         camping       other-relative          36900        -53700   \n",
      "244     board-games       other-relative              0        -70300   \n",
      "248            golf       other-relative          25900             0   \n",
      "260       skydiving       other-relative              0        -47100   \n",
      "271         camping                 wife          71200             0   \n",
      "287            golf        not-in-family          68700             0   \n",
      "298            golf        not-in-family              0             0   \n",
      "332    base-jumping            unmarried          67000        -53600   \n",
      "333         reading              husband              0             0   \n",
      "343        sleeping       other-relative              0             0   \n",
      "362            polo            own-child              0             0   \n",
      "365           chess                 wife          30700             0   \n",
      "366         dancing            own-child          68500             0   \n",
      "373    base-jumping                 wife          59000             0   \n",
      "395     video-games        not-in-family          61400        -57500   \n",
      "409       cross-fit            unmarried              0             0   \n",
      "410            polo        not-in-family              0        -50400   \n",
      "414       paintball            unmarried              0             0   \n",
      "439            polo            unmarried              0        -66000   \n",
      "443       paintball        not-in-family          77900             0   \n",
      "444         reading       other-relative          23600        -15600   \n",
      "452     board-games            unmarried          12100             0   \n",
      "473        kayaking                 wife              0             0   \n",
      "490          movies            unmarried          45000        -30400   \n",
      "533       paintball        not-in-family          98800        -65300   \n",
      "538       paintball            own-child          47600             0   \n",
      "585        yachting                 wife              0        -55800   \n",
      "624         reading        not-in-family          58200             0   \n",
      "635           chess                 wife              0        -42900   \n",
      "648    base-jumping       other-relative          57800        -53700   \n",
      "674            polo                 wife          40900             0   \n",
      "677       paintball              husband          55400        -40400   \n",
      "686            golf              husband              0             0   \n",
      "702         camping                 wife              0        -49400   \n",
      "711    base-jumping            own-child              0        -51100   \n",
      "721        kayaking       other-relative              0        -41200   \n",
      "726        sleeping            unmarried          49000             0   \n",
      "739         camping        not-in-family          55300        -37900   \n",
      "782     board-games       other-relative          67100             0   \n",
      "783  bungie-jumping              husband              0        -48700   \n",
      "790       paintball       other-relative          83900        -52100   \n",
      "799         dancing            own-child              0        -27700   \n",
      "804    base-jumping            unmarried          35000             0   \n",
      "811         dancing              husband              0        -34700   \n",
      "813     video-games              husband          26900        -55300   \n",
      "820      basketball            own-child              0             0   \n",
      "832       paintball            own-child          52200        -44500   \n",
      "835      basketball                 wife              0        -53200   \n",
      "837            golf       other-relative          51700        -33300   \n",
      "840            golf            own-child          45800             0   \n",
      "871  bungie-jumping              husband          70900        -61100   \n",
      "887        exercise              husband          24000        -50500   \n",
      "892        yachting              husband          40000        -43400   \n",
      "893        sleeping              husband              0             0   \n",
      "894          movies        not-in-family              0             0   \n",
      "896     board-games            own-child              0             0   \n",
      "899       paintball            own-child          73700             0   \n",
      "916            golf              husband          70300        -70900   \n",
      "940          movies            own-child          45700        -41400   \n",
      "942    base-jumping            own-child          52800        -54300   \n",
      "950     video-games            unmarried          30800        -43700   \n",
      "953         reading        not-in-family          42600        -44400   \n",
      "994  bungie-jumping            own-child              0        -82100   \n",
      "\n",
      "    incident_date  incident_type collision_type incident_severity  \\\n",
      "4      2015-02-17  Vehicle Theft              ?      Minor Damage   \n",
      "13     2015-01-08     Parked Car              ?      Minor Damage   \n",
      "27     2015-01-07  Vehicle Theft              ?      Minor Damage   \n",
      "37     2015-01-18     Parked Car              ?      Minor Damage   \n",
      "51     2015-01-17  Vehicle Theft              ?    Trivial Damage   \n",
      "52     2015-02-22  Vehicle Theft              ?      Minor Damage   \n",
      "57     2015-02-22     Parked Car              ?      Minor Damage   \n",
      "69     2015-02-27     Parked Car              ?      Minor Damage   \n",
      "78     2015-01-24  Vehicle Theft              ?      Minor Damage   \n",
      "81     2015-01-03  Vehicle Theft              ?    Trivial Damage   \n",
      "83     2015-01-19  Vehicle Theft              ?    Trivial Damage   \n",
      "88     2015-01-30     Parked Car              ?    Trivial Damage   \n",
      "92     2015-02-28     Parked Car              ?    Trivial Damage   \n",
      "95     2015-02-21  Vehicle Theft              ?      Minor Damage   \n",
      "98     2015-02-22     Parked Car              ?    Trivial Damage   \n",
      "99     2015-01-26  Vehicle Theft              ?    Trivial Damage   \n",
      "105    2015-01-01  Vehicle Theft              ?      Minor Damage   \n",
      "114    2015-02-24  Vehicle Theft              ?      Minor Damage   \n",
      "141    2015-01-19  Vehicle Theft              ?    Trivial Damage   \n",
      "142    2015-02-27     Parked Car              ?      Minor Damage   \n",
      "157    2015-02-06     Parked Car              ?      Minor Damage   \n",
      "169    2015-01-05     Parked Car              ?      Minor Damage   \n",
      "174    2015-02-05  Vehicle Theft              ?    Trivial Damage   \n",
      "179    2015-01-24  Vehicle Theft              ?    Trivial Damage   \n",
      "190    2015-02-09     Parked Car              ?      Minor Damage   \n",
      "197    2015-01-12     Parked Car              ?    Trivial Damage   \n",
      "211    2015-01-05  Vehicle Theft              ?    Trivial Damage   \n",
      "217    2015-02-10  Vehicle Theft              ?    Trivial Damage   \n",
      "242    2015-02-02     Parked Car              ?    Trivial Damage   \n",
      "244    2015-01-01  Vehicle Theft              ?    Trivial Damage   \n",
      "248    2015-01-02     Parked Car              ?      Minor Damage   \n",
      "260    2015-02-02     Parked Car              ?    Trivial Damage   \n",
      "271    2015-02-19     Parked Car              ?      Minor Damage   \n",
      "287    2015-01-29  Vehicle Theft              ?    Trivial Damage   \n",
      "298    2015-02-26     Parked Car              ?      Minor Damage   \n",
      "332    2015-02-16     Parked Car              ?    Trivial Damage   \n",
      "333    2015-02-04     Parked Car              ?    Trivial Damage   \n",
      "343    2015-01-31  Vehicle Theft              ?      Minor Damage   \n",
      "362    2015-02-28     Parked Car              ?    Trivial Damage   \n",
      "365    2015-02-26     Parked Car              ?      Minor Damage   \n",
      "366    2015-02-03  Vehicle Theft              ?    Trivial Damage   \n",
      "373    2015-02-16     Parked Car              ?      Minor Damage   \n",
      "395    2015-01-15  Vehicle Theft              ?      Minor Damage   \n",
      "409    2015-01-19  Vehicle Theft              ?    Trivial Damage   \n",
      "410    2015-01-17     Parked Car              ?      Minor Damage   \n",
      "414    2015-01-02  Vehicle Theft              ?      Minor Damage   \n",
      "439    2015-01-01     Parked Car              ?    Trivial Damage   \n",
      "443    2015-01-20     Parked Car              ?      Minor Damage   \n",
      "444    2015-02-18     Parked Car              ?      Minor Damage   \n",
      "452    2015-02-10     Parked Car              ?    Trivial Damage   \n",
      "473    2015-01-04  Vehicle Theft              ?    Trivial Damage   \n",
      "490    2015-02-21  Vehicle Theft              ?      Minor Damage   \n",
      "533    2015-01-18  Vehicle Theft              ?      Minor Damage   \n",
      "538    2015-02-21     Parked Car              ?      Minor Damage   \n",
      "585    2015-02-10  Vehicle Theft              ?      Minor Damage   \n",
      "624    2015-01-13     Parked Car              ?      Minor Damage   \n",
      "635    2015-01-21     Parked Car              ?    Trivial Damage   \n",
      "648    2015-02-11     Parked Car              ?    Trivial Damage   \n",
      "674    2015-02-24  Vehicle Theft              ?    Trivial Damage   \n",
      "677    2015-01-24     Parked Car              ?    Trivial Damage   \n",
      "686    2015-02-02     Parked Car              ?    Trivial Damage   \n",
      "702    2015-02-05     Parked Car              ?      Minor Damage   \n",
      "711    2015-02-07     Parked Car              ?      Minor Damage   \n",
      "721    2015-01-10     Parked Car              ?    Trivial Damage   \n",
      "726    2015-01-27     Parked Car              ?      Minor Damage   \n",
      "739    2015-01-21  Vehicle Theft              ?      Minor Damage   \n",
      "782    2015-01-20  Vehicle Theft              ?      Minor Damage   \n",
      "783    2015-02-12     Parked Car              ?    Trivial Damage   \n",
      "790    2015-02-20     Parked Car              ?    Trivial Damage   \n",
      "799    2015-02-01     Parked Car              ?    Trivial Damage   \n",
      "804    2015-02-03     Parked Car              ?    Trivial Damage   \n",
      "811    2015-02-25  Vehicle Theft              ?      Minor Damage   \n",
      "813    2015-02-09  Vehicle Theft              ?      Minor Damage   \n",
      "820    2015-01-28  Vehicle Theft              ?    Trivial Damage   \n",
      "832    2015-01-16  Vehicle Theft              ?      Minor Damage   \n",
      "835    2015-02-17  Vehicle Theft              ?      Minor Damage   \n",
      "837    2015-01-31  Vehicle Theft              ?    Trivial Damage   \n",
      "840    2015-02-13     Parked Car              ?    Trivial Damage   \n",
      "871    2015-01-28     Parked Car              ?      Minor Damage   \n",
      "887    2015-02-19     Parked Car              ?      Minor Damage   \n",
      "892    2015-01-15  Vehicle Theft              ?    Trivial Damage   \n",
      "893    2015-02-23  Vehicle Theft              ?      Minor Damage   \n",
      "894    2015-02-17     Parked Car              ?      Minor Damage   \n",
      "896    2015-01-18     Parked Car              ?    Trivial Damage   \n",
      "899    2015-01-06  Vehicle Theft              ?      Minor Damage   \n",
      "916    2015-02-25  Vehicle Theft              ?    Trivial Damage   \n",
      "940    2015-01-03     Parked Car              ?      Minor Damage   \n",
      "942    2015-01-13     Parked Car              ?      Minor Damage   \n",
      "950    2015-01-13     Parked Car              ?      Minor Damage   \n",
      "953    2015-02-26  Vehicle Theft              ?      Minor Damage   \n",
      "994    2015-01-22     Parked Car              ?      Minor Damage   \n",
      "\n",
      "    authorities_contacted incident_state incident_city      incident_location  \\\n",
      "4                     NaN             NY     Arlington           3041 3rd Ave   \n",
      "13                    NaN             SC   Springfield          6582 Elm Lane   \n",
      "27                    NaN             VA    Northbrook    3790 Andromedia Hwy   \n",
      "37                    NaN             WV     Arlington         6676 Tree Lane   \n",
      "51                    NaN             NY     Arlington           2280 4th Ave   \n",
      "52                    NaN             WV     Northbend         2644 Elm Drive   \n",
      "57                    NaN             VA     Riverwood       5418 Britain Ave   \n",
      "69                    NaN             NC     Riverwood  7721 Washington Ridge   \n",
      "78                    NaN             SC   Springfield          7877 Sky Lane   \n",
      "81                    NaN             NC    Northbrook       7098 Lincoln Hwy   \n",
      "83                    NaN             VA     Hillsdale        2333 Maple Lane   \n",
      "88                    NaN             WV     Arlington            5540 Sky St   \n",
      "92                    NaN             WV   Springfield     5260 Francis Drive   \n",
      "95                    NaN             OH    Northbrook     3289 Britain Drive   \n",
      "98                    NaN             WV      Columbus          3998 Flute St   \n",
      "99                    NaN             NC    Northbrook           2430 MLK Ave   \n",
      "105                   NaN             WV      Columbus     8085 Andromedia St   \n",
      "114                   NaN             VA    Northbrook       4574 Britain Hwy   \n",
      "141                   NaN             SC    Northbrook      5532 Weaver Ridge   \n",
      "142                   NaN             SC     Northbend           9101 2nd Hwy   \n",
      "157                   NaN             WV     Northbend          6375 2nd Lane   \n",
      "169                   NaN             NY     Hillsdale           8749 Tree St   \n",
      "174                   NaN             WV     Riverwood         5904 1st Drive   \n",
      "179                   NaN             NY     Hillsdale           6193 1st Hwy   \n",
      "190                   NaN             SC     Riverwood           1845 Best St   \n",
      "197                   NaN             WV     Arlington          4964 Elm Lane   \n",
      "211                   NaN             OH      Columbus         3878 Tree Lane   \n",
      "217                   NaN             NC   Springfield         9742 5th Ridge   \n",
      "242                   NaN             SC     Hillsdale   8404 Embaracadero St   \n",
      "244                   NaN             PA   Springfield         6359 MLK Ridge   \n",
      "248                   NaN             SC     Hillsdale      6067 Weaver Ridge   \n",
      "260                   NaN             SC     Riverwood      7828 Cherokee Ave   \n",
      "271                   NaN             NY     Hillsdale       1365 Francis Ave   \n",
      "287                   NaN             SC     Riverwood         5901 Elm Drive   \n",
      "298                   NaN             WV     Northbend       8078 Britain Hwy   \n",
      "332                   NaN             SC     Northbend        7529 Solo Ridge   \n",
      "333                   NaN             VA     Arlington        8096 Apache Hwy   \n",
      "343                   NaN             WV     Northbend           9154 MLK Hwy   \n",
      "362                   NaN             VA     Arlington           6317 Best St   \n",
      "365                   NaN             NC     Arlington         5480 3rd Ridge   \n",
      "366                   NaN             SC    Northbrook        8864 Tree Ridge   \n",
      "373                   NaN             WV     Arlington       4585 Francis Ave   \n",
      "395                   NaN             SC     Northbend       4188 Britain Ave   \n",
      "409                   NaN             NC   Springfield      6957 Weaver Drive   \n",
      "410                   NaN             WV    Northbrook         1512 Rock Lane   \n",
      "414                   NaN             NC     Riverwood  4615 Embaracadero Ave   \n",
      "439                   NaN             VA     Hillsdale         4629 Elm Ridge   \n",
      "443                   NaN             VA      Columbus       3805 Lincoln Hwy   \n",
      "444                   NaN             NC     Arlington         4055 2nd Drive   \n",
      "452                   NaN             NY     Hillsdale       7500 Texas Ridge   \n",
      "473                   NaN             SC      Columbus     1992 Britain Drive   \n",
      "490                   NaN             WV     Arlington         8306 1st Drive   \n",
      "533                   NaN             SC      Columbus         2193 4th Ridge   \n",
      "538                   NaN             VA     Northbend         8204 Pine Lane   \n",
      "585                   NaN             OH   Springfield          1687 3rd Lane   \n",
      "624                   NaN             SC     Riverwood            3028 5th St   \n",
      "635                   NaN             SC      Columbus           3320 5th Hwy   \n",
      "648                   NaN             NY     Arlington           4558 3rd Hwy   \n",
      "674                   NaN             VA     Northbend   1515 Embaracadero St   \n",
      "677                   NaN             NY     Arlington     9639 Britain Ridge   \n",
      "686                   NaN             NY     Riverwood         5743 4th Ridge   \n",
      "702                   NaN             NY   Springfield       3995 Lincoln Hwy   \n",
      "711                   NaN             SC     Riverwood     3006 Lincoln Ridge   \n",
      "721                   NaN             NY     Riverwood         8872 Oak Ridge   \n",
      "726                   NaN             NC     Northbend           4431 Rock St   \n",
      "739                   NaN             WV     Riverwood            8453 Elm St   \n",
      "782                   NaN             NY   Springfield         4857 Weaver St   \n",
      "783                   NaN             NY     Hillsdale           8211 Sky Hwy   \n",
      "790                   NaN             SC    Northbrook       7928 Maple Ridge   \n",
      "799                   NaN             VA     Hillsdale         4390 4th Drive   \n",
      "804                   NaN             WV     Arlington         4905 Best Lane   \n",
      "811                   NaN             WV     Arlington         4434 Weaver St   \n",
      "813                   NaN             WV   Springfield      2809 Francis Lane   \n",
      "820                   NaN             VA     Hillsdale          4453 Best Ave   \n",
      "832                   NaN             VA     Arlington         1941 5th Ridge   \n",
      "835                   NaN             NC    Northbrook      4814 Lincoln Lane   \n",
      "837                   NaN             NC     Arlington           6939 3rd Hwy   \n",
      "840                   NaN             SC     Arlington        1741 Best Ridge   \n",
      "871                   NaN             WV     Northbend  8492 Andromedia Ridge   \n",
      "887                   NaN             VA     Arlington        9988 Rock Ridge   \n",
      "892                   NaN             WV      Columbus      7785 Lincoln Lane   \n",
      "893                   NaN             NC     Arlington     4994 Lincoln Drive   \n",
      "894                   NaN             NY   Springfield         1298 Maple Hwy   \n",
      "896                   NaN             SC     Riverwood         5630 1st Drive   \n",
      "899                   NaN             NC     Arlington          4460 4th Lane   \n",
      "916                   NaN             NY     Hillsdale          5650 Rock Ave   \n",
      "940                   NaN             NY   Springfield        4369 Maple Lane   \n",
      "942                   NaN             SC     Arlington    7583 Washington Ave   \n",
      "950                   NaN             SC     Arlington         7930 Texas Ave   \n",
      "953                   NaN             WV     Hillsdale          9322 Rock Hwy   \n",
      "994                   NaN             SC     Northbend        6516 Solo Drive   \n",
      "\n",
      "     incident_hour_of_the_day  number_of_vehicles_involved property_damage  \\\n",
      "4                          20                            1              NO   \n",
      "13                          5                            1              NO   \n",
      "27                          5                            1             YES   \n",
      "37                         16                            1              NO   \n",
      "51                          4                            1               ?   \n",
      "52                          8                            1               ?   \n",
      "57                         19                            1              NO   \n",
      "69                         13                            1              NO   \n",
      "78                         15                            1             YES   \n",
      "81                         10                            1               ?   \n",
      "83                         13                            1              NO   \n",
      "88                          9                            1              NO   \n",
      "92                          9                            1              NO   \n",
      "95                          5                            1              NO   \n",
      "98                          6                            1               ?   \n",
      "99                         10                            1              NO   \n",
      "105                         4                            1             YES   \n",
      "114                         9                            1             YES   \n",
      "141                         9                            1               ?   \n",
      "142                         5                            1               ?   \n",
      "157                         8                            1               ?   \n",
      "169                        18                            1              NO   \n",
      "174                         3                            1              NO   \n",
      "179                         1                            1               ?   \n",
      "190                         8                            1             YES   \n",
      "197                         6                            1             YES   \n",
      "211                         9                            1               ?   \n",
      "217                        17                            1               ?   \n",
      "242                        10                            1               ?   \n",
      "244                         3                            1             YES   \n",
      "248                         7                            1               ?   \n",
      "260                        17                            1               ?   \n",
      "271                         6                            1              NO   \n",
      "287                         6                            1               ?   \n",
      "298                         7                            1             YES   \n",
      "332                         8                            1              NO   \n",
      "333                         4                            1               ?   \n",
      "343                         3                            1               ?   \n",
      "362                         8                            1             YES   \n",
      "365                         7                            1               ?   \n",
      "366                         9                            1               ?   \n",
      "373                         2                            1             YES   \n",
      "395                         3                            1             YES   \n",
      "409                         3                            1              NO   \n",
      "410                         9                            1               ?   \n",
      "414                         4                            1             YES   \n",
      "439                        10                            1             YES   \n",
      "443                         3                            1              NO   \n",
      "444                         7                            1              NO   \n",
      "452                         3                            1             YES   \n",
      "473                         3                            1              NO   \n",
      "490                         3                            1             YES   \n",
      "533                        13                            1              NO   \n",
      "538                         5                            1             YES   \n",
      "585                        17                            1               ?   \n",
      "624                        10                            1             YES   \n",
      "635                         5                            1               ?   \n",
      "648                         4                            1               ?   \n",
      "674                         0                            1              NO   \n",
      "677                         4                            1             YES   \n",
      "686                         4                            1              NO   \n",
      "702                         3                            1             YES   \n",
      "711                        16                            1              NO   \n",
      "721                         8                            1               ?   \n",
      "726                         0                            1              NO   \n",
      "739                         0                            1             YES   \n",
      "782                         6                            1              NO   \n",
      "783                         1                            1              NO   \n",
      "790                         6                            1             YES   \n",
      "799                        20                            1             YES   \n",
      "804                         3                            1             YES   \n",
      "811                         3                            1              NO   \n",
      "813                         7                            1               ?   \n",
      "820                        14                            1               ?   \n",
      "832                        10                            1             YES   \n",
      "835                         6                            1               ?   \n",
      "837                         6                            1              NO   \n",
      "840                         9                            1              NO   \n",
      "871                         8                            1              NO   \n",
      "887                         4                            1              NO   \n",
      "892                         6                            1               ?   \n",
      "893                         8                            1             YES   \n",
      "894                         6                            1               ?   \n",
      "896                        13                            1              NO   \n",
      "899                         8                            1             YES   \n",
      "916                         7                            1               ?   \n",
      "940                         7                            1               ?   \n",
      "942                         5                            1              NO   \n",
      "950                         9                            1              NO   \n",
      "953                         3                            1              NO   \n",
      "994                         6                            1               ?   \n",
      "\n",
      "     bodily_injuries  witnesses police_report_available  total_claim_amount  \\\n",
      "4                  0          1                      NO                6500   \n",
      "13                 1          1                      NO                7280   \n",
      "27                 2          1                       ?                5720   \n",
      "37                 1          1                     YES                5330   \n",
      "51                 1          2                       ?                7260   \n",
      "52                 2          1                     YES                4300   \n",
      "57                 1          3                      NO                2400   \n",
      "69                 0          1                       ?                4300   \n",
      "78                 2          2                     YES                8060   \n",
      "81                 2          1                       ?                6600   \n",
      "83                 0          3                     YES                6490   \n",
      "88                 0          1                     YES                4700   \n",
      "92                 0          1                      NO                5900   \n",
      "95                 2          0                     YES                6930   \n",
      "98                 1          2                     YES                5400   \n",
      "99                 0          0                       ?                5600   \n",
      "105                1          3                     YES                4320   \n",
      "114                1          1                     YES                7080   \n",
      "141                2          3                       ?                5170   \n",
      "142                2          1                     YES                8190   \n",
      "157                2          3                      NO                6500   \n",
      "169                1          0                      NO                6700   \n",
      "174                0          1                      NO                6100   \n",
      "179                2          1                      NO                4950   \n",
      "190                0          1                     YES                5390   \n",
      "197                0          3                       ?                5200   \n",
      "211                1          2                       ?                7080   \n",
      "217                2          1                      NO                7200   \n",
      "242                2          1                     YES                6300   \n",
      "244                1          2                      NO                3200   \n",
      "248                0          3                      NO                5900   \n",
      "260                0          1                      NO                3850   \n",
      "271                0          0                      NO                3080   \n",
      "287                1          0                      NO                6400   \n",
      "298                1          0                       ?                5940   \n",
      "332                2          2                       ?                5640   \n",
      "333                2          2                       ?                3190   \n",
      "343                0          3                      NO                6240   \n",
      "362                0          2                      NO                4500   \n",
      "365                0          0                      NO                3600   \n",
      "366                2          0                       ?                2800   \n",
      "373                1          2                       ?                6120   \n",
      "395                2          0                      NO                5220   \n",
      "409                2          3                      NO                3190   \n",
      "410                0          3                      NO                5850   \n",
      "414                1          2                       ?                7800   \n",
      "439                2          1                     YES                5900   \n",
      "443                2          1                       ?                3770   \n",
      "444                0          0                       ?                7400   \n",
      "452                1          0                      NO                4290   \n",
      "473                1          0                      NO                7080   \n",
      "490                1          1                      NO                2250   \n",
      "533                0          3                      NO                6820   \n",
      "538                1          3                      NO                4700   \n",
      "585                1          3                      NO                5100   \n",
      "624                1          0                      NO                6160   \n",
      "635                0          2                     YES                2860   \n",
      "648                0          2                       ?                5060   \n",
      "674                1          1                     YES                4320   \n",
      "677                1          2                       ?                4320   \n",
      "686                0          1                      NO                3840   \n",
      "702                1          3                       ?                2640   \n",
      "711                2          1                      NO                4900   \n",
      "721                1          3                     YES                5830   \n",
      "726                1          3                     YES                1920   \n",
      "739                0          3                      NO                9100   \n",
      "782                0          1                       ?                3740   \n",
      "783                0          1                      NO                5060   \n",
      "790                2          1                     YES                5830   \n",
      "799                0          1                       ?                3960   \n",
      "804                2          3                     YES                4950   \n",
      "811                0          3                     YES                4680   \n",
      "813                1          2                      NO                3520   \n",
      "820                0          0                       ?                7200   \n",
      "832                1          3                     YES                4560   \n",
      "835                0          2                       ?                9000   \n",
      "837                0          3                     YES                5940   \n",
      "840                0          3                       ?                5400   \n",
      "871                2          0                     YES                4200   \n",
      "887                0          0                      NO                6400   \n",
      "892                2          1                      NO                2640   \n",
      "893                0          0                       ?                8970   \n",
      "894                1          3                       ?                6000   \n",
      "896                0          3                     YES                7260   \n",
      "899                1          3                       ?                4700   \n",
      "916                1          1                     YES                3600   \n",
      "940                1          1                     YES                5590   \n",
      "942                1          3                      NO                4290   \n",
      "950                1          0                      NO                5170   \n",
      "953                1          0                     YES                4620   \n",
      "994                1          2                     YES                6480   \n",
      "\n",
      "     injury_claim  property_claim  vehicle_claim   auto_make      auto_model  \\\n",
      "4            1300             650           4550      Accura             RSX   \n",
      "13           1120            1120           5040      Toyota      Highlander   \n",
      "27           1040             520           4160      Suburu       Forrestor   \n",
      "37           1230             820           3280      Suburu          Legacy   \n",
      "51           1320             660           5280         BMW              M5   \n",
      "52            430             430           3440      Toyota         Corolla   \n",
      "57            300             300           1800   Chevrolet       Silverado   \n",
      "69            860             860           2580        Ford            F150   \n",
      "78           1240            1240           5580        Saab              95   \n",
      "81            660            1320           4620      Accura              TL   \n",
      "83           1180            1180           4130  Volkswagen           Jetta   \n",
      "88            940             470           3290       Dodge            Neon   \n",
      "92            590             590           4720         BMW              X5   \n",
      "95           1260             630           5040      Toyota      Highlander   \n",
      "98            900             900           3600        Saab              95   \n",
      "99            700             700           4200        Audi              A3   \n",
      "105           480             480           3360    Mercedes            E400   \n",
      "114          1180            1180           4720        Ford            F150   \n",
      "141           470             940           3760      Suburu       Forrestor   \n",
      "142          1890            1260           5040   Chevrolet       Silverado   \n",
      "157          1300             650           4550        Saab             92x   \n",
      "169           670             670           5360        Jeep        Wrangler   \n",
      "174           610            1220           4270        Ford          Fusion   \n",
      "179           450             900           3600   Chevrolet       Silverado   \n",
      "190           980             980           3430  Volkswagen          Passat   \n",
      "197           650             650           3900      Accura             MDX   \n",
      "211          1180             590           5310       Dodge             RAM   \n",
      "217          1440             720           5040         BMW              X5   \n",
      "242           630             630           5040      Nissan          Ultima   \n",
      "244           640             320           2240    Mercedes            E400   \n",
      "248          1180             590           4130    Mercedes            E400   \n",
      "260           350             350           3150       Dodge            Neon   \n",
      "271           560             280           2240        Audi              A3   \n",
      "287           640             640           5120      Toyota           Camry   \n",
      "298          1080             540           4320      Nissan      Pathfinder   \n",
      "332           940             940           3760      Nissan          Ultima   \n",
      "333           580             580           2030      Suburu          Legacy   \n",
      "343           960             960           4320        Ford          Fusion   \n",
      "362           450             450           3600        Saab              93   \n",
      "365           360             720           2520         BMW              X5   \n",
      "366           280             280           2240  Volkswagen          Passat   \n",
      "373           680             680           4760       Honda           Civic   \n",
      "395           580             580           4060      Accura             MDX   \n",
      "409           290             580           2320        Ford          Escape   \n",
      "410          1300             650           3900         BMW              M5   \n",
      "414           780             780           6240       Dodge             RAM   \n",
      "439           590             590           4720      Nissan      Pathfinder   \n",
      "443           580             580           2610        Jeep  Grand Cherokee   \n",
      "444           740            1480           5180       Dodge            Neon   \n",
      "452           780             390           3120        Audi              A3   \n",
      "473          1180            1180           4720      Nissan          Maxima   \n",
      "490           250             250           1750      Toyota         Corolla   \n",
      "533          1240             620           4960    Mercedes           ML350   \n",
      "538           940             470           3290       Dodge            Neon   \n",
      "585          1020             510           3570   Chevrolet          Malibu   \n",
      "624           560            1120           4480      Nissan          Ultima   \n",
      "635           520             260           2080   Chevrolet           Tahoe   \n",
      "648           460             920           3680       Honda             CRV   \n",
      "674           480             960           2880      Toyota         Corolla   \n",
      "677             0             960           3360        Saab              93   \n",
      "686           640             320           2880        Saab             92x   \n",
      "702           480             480           1680  Volkswagen          Passat   \n",
      "711           490            1470           2940        Jeep        Wrangler   \n",
      "721          1060            1060           3710       Dodge             RAM   \n",
      "726           480               0           1440   Chevrolet           Tahoe   \n",
      "739          1400            1400           6300   Chevrolet          Malibu   \n",
      "782           680             680           2380   Chevrolet          Malibu   \n",
      "783           460             920           3680      Nissan          Ultima   \n",
      "790          1060             530           4240      Nissan      Pathfinder   \n",
      "799           660             660           2640        Audi              A3   \n",
      "804           900             450           3600      Toyota           Camry   \n",
      "811           520             520           3640   Chevrolet          Malibu   \n",
      "813           640             320           2560      Accura             MDX   \n",
      "820           720            1440           5040        Audi              A5   \n",
      "832           760             380           3420      Nissan      Pathfinder   \n",
      "835           900            1800           6300    Mercedes           ML350   \n",
      "837           540            1080           4320        Audi              A5   \n",
      "840           600             600           4200   Chevrolet          Malibu   \n",
      "871           420             840           2940        Jeep        Wrangler   \n",
      "887           640             640           5120       Honda           Civic   \n",
      "892           220             440           1980        Jeep        Wrangler   \n",
      "893          1380            1380           6210       Dodge            Neon   \n",
      "894          1000            1000           4000      Suburu         Impreza   \n",
      "896           660            1320           5280        Saab             92x   \n",
      "899           470             940           3290        Saab             92x   \n",
      "916           400             400           2800       Honda           Civic   \n",
      "940           860             860           3870      Suburu         Impreza   \n",
      "942           780             780           2730  Volkswagen          Passat   \n",
      "950           940             470           3760      Toyota           Camry   \n",
      "953           420             840           3360  Volkswagen           Jetta   \n",
      "994           540            1080           4860       Honda           Civic   \n",
      "\n",
      "     auto_year fraud_reported  \n",
      "4         2009              N  \n",
      "13        2010              N  \n",
      "27        2003              Y  \n",
      "37        2001              N  \n",
      "51        2008              N  \n",
      "52        2000              N  \n",
      "57        2014              N  \n",
      "69        2004              N  \n",
      "78        2004              N  \n",
      "81        2005              N  \n",
      "83        2002              N  \n",
      "88        2002              N  \n",
      "92        2007              N  \n",
      "95        2001              N  \n",
      "98        1999              N  \n",
      "99        2007              N  \n",
      "105       2002              N  \n",
      "114       2001              N  \n",
      "141       2001              N  \n",
      "142       2013              N  \n",
      "157       2013              N  \n",
      "169       2011              N  \n",
      "174       2002              N  \n",
      "179       2010              N  \n",
      "190       2008              N  \n",
      "197       2006              N  \n",
      "211       1999              N  \n",
      "217       2004              N  \n",
      "242       2001              N  \n",
      "244       2014              N  \n",
      "248       2009              N  \n",
      "260       2014              N  \n",
      "271       2012              N  \n",
      "287       1997              N  \n",
      "298       2003              N  \n",
      "332       2005              N  \n",
      "333       1995              N  \n",
      "343       2011              N  \n",
      "362       1999              N  \n",
      "365       2013              Y  \n",
      "366       2015              N  \n",
      "373       2002              Y  \n",
      "395       2015              N  \n",
      "409       1995              N  \n",
      "410       2006              N  \n",
      "414       1997              N  \n",
      "439       2010              N  \n",
      "443       2002              N  \n",
      "444       2014              N  \n",
      "452       1997              N  \n",
      "473       2001              N  \n",
      "490       2005              N  \n",
      "533       2009              N  \n",
      "538       2007              Y  \n",
      "585       2000              N  \n",
      "624       1996              N  \n",
      "635       1997              Y  \n",
      "648       2012              N  \n",
      "674       1995              N  \n",
      "677       2003              N  \n",
      "686       1998              N  \n",
      "702       2000              N  \n",
      "711       2015              N  \n",
      "721       2015              N  \n",
      "726       2011              N  \n",
      "739       2003              N  \n",
      "782       2011              N  \n",
      "783       2003              N  \n",
      "790       2011              N  \n",
      "799       1998              N  \n",
      "804       1995              N  \n",
      "811       2013              N  \n",
      "813       2013              N  \n",
      "820       1999              N  \n",
      "832       2007              N  \n",
      "835       2015              N  \n",
      "837       2001              Y  \n",
      "840       1998              N  \n",
      "871       2013              N  \n",
      "887       2002              N  \n",
      "892       2001              N  \n",
      "893       2011              N  \n",
      "894       2000              N  \n",
      "896       2008              N  \n",
      "899       1998              N  \n",
      "916       1999              N  \n",
      "940       2002              N  \n",
      "942       1998              N  \n",
      "950       2001              N  \n",
      "953       2012              N  \n",
      "994       1996              N  \n"
     ]
    }
   ],
   "source": [
    "rows_with_nulls = df[df.isnull().any(axis=1)]\n",
    "print(rows_with_nulls)"
   ]
  },
  {
   "cell_type": "markdown",
   "metadata": {
    "id": "202JyqOjDPWb"
   },
   "source": [
    "### **2.2 Identify and handle redundant values and columns** <font color = red>[5 marks]</font>"
   ]
  },
  {
   "cell_type": "markdown",
   "metadata": {
    "id": "fSh2wYZoDPWb"
   },
   "source": [
    "#### **2.2.1** Examine the columns to determine if any value or column needs to be treated <font color=\"red\">[2 Mark]</font>"
   ]
  },
  {
   "cell_type": "code",
   "execution_count": 140,
   "metadata": {
    "id": "1x0Cn8BiDPWb"
   },
   "outputs": [
    {
     "name": "stdout",
     "output_type": "stream",
     "text": [
      "fraud_reported\n",
      "N    0.753\n",
      "Y    0.247\n",
      "Name: proportion, dtype: float64\n"
     ]
    },
    {
     "data": {
      "text/plain": [
       "<Axes: xlabel='fraud_reported', ylabel='count'>"
      ]
     },
     "execution_count": 140,
     "metadata": {},
     "output_type": "execute_result"
    },
    {
     "data": {
      "image/png": "[encoded data removed]",
      "text/plain": [
       "<Figure size 640x480 with 1 Axes>"
      ]
     },
     "metadata": {},
     "output_type": "display_data"
    }
   ],
   "source": [
    "# Write code to display all the columns with their unique values and counts and check for redundant values\n",
    "print(df['fraud_reported'].value_counts(normalize=True))\n",
    "sns.countplot(data=df,x='fraud_reported')"
   ]
  },
  {
   "cell_type": "markdown",
   "metadata": {
    "id": "RRIhr3ZwDPWb"
   },
   "source": [
    "#### **2.2.2** Identify and drop any columns that are completely empty <font color=\"red\">[1 Mark]</font>"
   ]
  },
  {
   "cell_type": "code",
   "execution_count": null,
   "metadata": {
    "id": "9vLZf8ExDPWb"
   },
   "outputs": [],
   "source": [
    "# Identify and drop any columns that are completely empty\n"
   ]
  },
  {
   "cell_type": "markdown",
   "metadata": {
    "id": "1Cx8douODPWd"
   },
   "source": [
    "#### **2.2.3** Identify and drop rows where features have illogical or invalid values, such as negative values for features that should only have positive values <font color=\"red\">[1 Mark]</font>"
   ]
  },
  {
   "cell_type": "code",
   "execution_count": null,
   "metadata": {
    "id": "U5oARc23DPWd"
   },
   "outputs": [],
   "source": [
    "# Identify and drop rows where features have illogical or invalid values, such as negative values for features that should only have positive values\n"
   ]
  },
  {
   "cell_type": "markdown",
   "metadata": {
    "id": "XTGMKeeNDPWd"
   },
   "source": [
    "#### **2.2.4** Identify and remove columns where a large proportion of the values are unique or near-unique, as these columns are likely to be identifiers or have very limited predictive power <font color=\"red\">[1 Mark]</font>"
   ]
  },
  {
   "cell_type": "code",
   "execution_count": null,
   "metadata": {
    "id": "U4LXO65UDPWd"
   },
   "outputs": [],
   "source": [
    "# Identify and remove columns that are likely to be identifiers or have very limited predictive power\n"
   ]
  },
  {
   "cell_type": "code",
   "execution_count": null,
   "metadata": {
    "id": "KzHx2BzPDPWd"
   },
   "outputs": [],
   "source": [
    "# Check the dataset\n"
   ]
  },
  {
   "cell_type": "markdown",
   "metadata": {
    "id": "nAvSdxKBDPWe"
   },
   "source": [
    "### **2.3 Fix Data Types** <font color = red>[3 marks]</font>\n",
    "Carefully examine the dataset and identify columns that contain date or time information but are not stored as the appropriate data type. Convert these columns to the correct datetime data type to enable proper analysis and manipulation of temporal information."
   ]
  },
  {
   "cell_type": "code",
   "execution_count": null,
   "metadata": {
    "id": "WIycvsINDPWe"
   },
   "outputs": [],
   "source": [
    "# Fix the data types of the columns with incorrect data types\n"
   ]
  },
  {
   "cell_type": "code",
   "execution_count": null,
   "metadata": {
    "id": "kl0jWZNEDPWe"
   },
   "outputs": [],
   "source": [
    "# Check the features of the data again\n"
   ]
  },
  {
   "cell_type": "markdown",
   "metadata": {
    "id": "nXS8rflQDPWe"
   },
   "source": [
    "## **3. Train-Validation Split** <font color = red>[5 marks]</font>"
   ]
  },
  {
   "cell_type": "markdown",
   "metadata": {
    "id": "9qOELXFYDPWe"
   },
   "source": [
    "### **3.1 Import required libraries**  "
   ]
  },
  {
   "cell_type": "code",
   "execution_count": null,
   "metadata": {
    "id": "-vJKP7g0DPWe"
   },
   "outputs": [],
   "source": [
    "# Import train-test-split\n",
    "from sklearn.model_selection import train_test_split"
   ]
  },
  {
   "cell_type": "markdown",
   "metadata": {
    "id": "-MdKqcZ-DPWe"
   },
   "source": [
    "### **3.2 Define feature and target variables** <font color = red>[2 Marks]</font>"
   ]
  },
  {
   "cell_type": "code",
   "execution_count": null,
   "metadata": {
    "id": "qacdKTt1DPWj"
   },
   "outputs": [],
   "source": [
    "# Put all the feature variables in X\n",
    "\n",
    "# Put the target variable in y\n"
   ]
  },
  {
   "cell_type": "markdown",
   "metadata": {
    "id": "t2JaDNlsDPWj"
   },
   "source": [
    "### **3.3 Split the data** <font color=\"red\">[3 Marks]</font>"
   ]
  },
  {
   "cell_type": "code",
   "execution_count": null,
   "metadata": {
    "id": "7_mMlbt7DPWj"
   },
   "outputs": [],
   "source": [
    "# Split the dataset into 70% train and 30% validation and use stratification on the target variable\n",
    "\n",
    "# Reset index for all train and test sets\n"
   ]
  },
  {
   "cell_type": "markdown",
   "metadata": {
    "id": "4E_xpebIDPWk"
   },
   "source": [
    "## **4. EDA on training data** <font color = red>[20 marks]</font>"
   ]
  },
  {
   "cell_type": "markdown",
   "metadata": {
    "id": "xDNn7iBADPWk"
   },
   "source": [
    "### **4.1 Perform univariate analysis** <font color = red>[5 marks]</font>"
   ]
  },
  {
   "cell_type": "markdown",
   "metadata": {
    "id": "aVLeqhcADPWk"
   },
   "source": [
    "#### **4.1.1** Identify and select numerical columns from training data for univariate analysis <font color = \"red\">[1 Mark]</font>"
   ]
  },
  {
   "cell_type": "code",
   "execution_count": null,
   "metadata": {
    "id": "bR9ulzRsDPWk"
   },
   "outputs": [],
   "source": [
    "# Select numerical columns\n"
   ]
  },
  {
   "cell_type": "markdown",
   "metadata": {
    "id": "wP4icMhPDPWk"
   },
   "source": [
    "#### **4.1.2** Visualise the distribution of selected numerical features using appropriate plots to understand their characteristics <font color = \"red\">[4 Marks]</font>"
   ]
  },
  {
   "cell_type": "code",
   "execution_count": null,
   "metadata": {
    "id": "ny7woMrmDPWk"
   },
   "outputs": [],
   "source": [
    "# Plot all the numerical columns to understand their distribution\n"
   ]
  },
  {
   "cell_type": "markdown",
   "metadata": {
    "id": "o4UAw5pDDPWl"
   },
   "source": [
    "### **4.2 Perform correlation analysis** <font color=\"red\">[3 Marks]</font>"
   ]
  },
  {
   "cell_type": "markdown",
   "metadata": {
    "id": "ySJiTDdxDPWl"
   },
   "source": [
    " Investigate the relationships between numerical features to identify potential multicollinearity or dependencies. Visualise the correlation structure using an appropriate method to gain insights into feature relationships."
   ]
  },
  {
   "cell_type": "code",
   "execution_count": null,
   "metadata": {
    "id": "_xadGQK7DPWl"
   },
   "outputs": [],
   "source": [
    "# Create correlation matrix for numerical columns\n",
    "\n",
    "# Plot Heatmap of the correlation matrix\n"
   ]
  },
  {
   "cell_type": "markdown",
   "metadata": {
    "id": "ZHQ3du-9DPWl"
   },
   "source": [
    "### **4.3 Check class balance** <font color=\"red\">[2 Marks]</font>"
   ]
  },
  {
   "cell_type": "markdown",
   "metadata": {
    "id": "eTkJHl0xDPWm"
   },
   "source": [
    "Examine the distribution of the target variable to identify potential class imbalances using visualisation for better understanding."
   ]
  },
  {
   "cell_type": "code",
   "execution_count": null,
   "metadata": {
    "id": "V1QrXZdhDPWm"
   },
   "outputs": [],
   "source": [
    "# Plot a bar chart to check class balance\n"
   ]
  },
  {
   "cell_type": "markdown",
   "metadata": {
    "id": "xFhVKzRHDPWn"
   },
   "source": [
    "### **4.4 Perform bivariate analysis** <font color=\"red\">[10 Marks]</font>"
   ]
  },
  {
   "cell_type": "markdown",
   "metadata": {
    "id": "h0WjamQXDPWn"
   },
   "source": [
    "#### **4.4.1** Target likelihood analysis for categorical variables. <font color=\"red\">[5 Marks]</font>\n",
    "Investigate the relationships between categorical features and the target variable by analysing the target event likelihood (for the `'Y'` event) for each level of every relevant categorical feature. Through this analysis, identify categorical features that do not contribute much in explaining the variation in the target variable."
   ]
  },
  {
   "cell_type": "code",
   "execution_count": null,
   "metadata": {
    "id": "K1OQJrO5guyw"
   },
   "outputs": [],
   "source": [
    "# Write a function to calculate and analyse the target variable likelihood for categorical features\n"
   ]
  },
  {
   "cell_type": "markdown",
   "metadata": {
    "id": "z6oeg9naDPWo"
   },
   "source": [
    "#### **4.4.2** Explore the relationships between numerical features and the target variable to understand their impact on the target outcome using appropriate visualisation techniques to identify trends and potential interactions. <font color=\"red\">[5 Marks]</font>"
   ]
  },
  {
   "cell_type": "code",
   "execution_count": null,
   "metadata": {
    "id": "bVXoNozGDPWo"
   },
   "outputs": [],
   "source": [
    "# Visualise the relationship between numerical features and the target variable to understand their impact on the target outcome\n"
   ]
  },
  {
   "cell_type": "markdown",
   "metadata": {
    "id": "OVV4m9OiDPWo"
   },
   "source": [
    "## **5. EDA on validation data** <font color = red>[OPTIONAL]</font>"
   ]
  },
  {
   "cell_type": "markdown",
   "metadata": {
    "id": "hvF11y45DPWo"
   },
   "source": [
    "### **5.1 Perform univariate analysis**"
   ]
  },
  {
   "cell_type": "markdown",
   "metadata": {
    "id": "krLtfiOBDPWo"
   },
   "source": [
    "#### **5.1.1** Identify and select numerical columns from training data for univariate analysis."
   ]
  },
  {
   "cell_type": "code",
   "execution_count": null,
   "metadata": {
    "id": "RURn5Dp1DPWo"
   },
   "outputs": [],
   "source": [
    "# Select numerical columns\n"
   ]
  },
  {
   "cell_type": "markdown",
   "metadata": {
    "id": "a41PWZrNDPWp"
   },
   "source": [
    "#### **5.1.2** Visualise the distribution of selected numerical features using appropriate plots to understand their characteristics."
   ]
  },
  {
   "cell_type": "code",
   "execution_count": null,
   "metadata": {
    "id": "DUoPrry8DPWp"
   },
   "outputs": [],
   "source": [
    "# Plot all the numerical columns to understand their distribution\n"
   ]
  },
  {
   "cell_type": "markdown",
   "metadata": {
    "id": "OhvTVXiwDPWp"
   },
   "source": [
    "### **5.2 Perform correlation analysis**"
   ]
  },
  {
   "cell_type": "markdown",
   "metadata": {
    "id": "F5tDAjsNDPWp"
   },
   "source": [
    " Investigate the relationships between numerical features to identify potential multicollinearity or dependencies. Visualise the correlation structure using an appropriate method to gain insights into feature relationships."
   ]
  },
  {
   "cell_type": "code",
   "execution_count": null,
   "metadata": {
    "id": "C-b6CSy1DPWp"
   },
   "outputs": [],
   "source": [
    "# Create correlation matrix for numerical columns\n",
    "\n",
    "# Plot Heatmap of the correlation matrix\n"
   ]
  },
  {
   "cell_type": "markdown",
   "metadata": {
    "id": "N2ww_JH7DPWp"
   },
   "source": [
    "### **5.3 Check class balance**"
   ]
  },
  {
   "cell_type": "markdown",
   "metadata": {
    "id": "ddcn-VSADPWp"
   },
   "source": [
    "Examine the distribution of the target variable to identify potential class imbalances. Visualise the distribution for better understanding."
   ]
  },
  {
   "cell_type": "code",
   "execution_count": null,
   "metadata": {
    "id": "5Yvfw9F2DPWq"
   },
   "outputs": [],
   "source": [
    "# Plot a bar chart to check class balance\n"
   ]
  },
  {
   "cell_type": "markdown",
   "metadata": {
    "id": "_pDlcXHxDPWq"
   },
   "source": [
    "### **5.4 Perform bivariate analysis**"
   ]
  },
  {
   "cell_type": "markdown",
   "metadata": {
    "id": "F0UT1kLHDPWq"
   },
   "source": [
    "#### **5.4.1** Target likelihood analysis for categorical variables.\n",
    "Investigate the relationships between categorical features and the target variable by analysing the target event likelihood (for the `'Y'` event) for each level of every relevant categorical feature. Through this analysis, identify categorical features that do not contribute much in explaining the variation in the target variable."
   ]
  },
  {
   "cell_type": "code",
   "execution_count": null,
   "metadata": {
    "id": "XMe7hHDcDPWr"
   },
   "outputs": [],
   "source": [
    "# Write a function to calculate and analyse the target variable likelihood for categorical features\n"
   ]
  },
  {
   "cell_type": "markdown",
   "metadata": {
    "id": "gCNILHjCDPWr"
   },
   "source": [
    "#### **5.4.2** Explore the relationships between numerical features and the target variable to understand their impact on the target outcome. Utilise appropriate visualisation techniques to identify trends and potential interactions."
   ]
  },
  {
   "cell_type": "code",
   "execution_count": null,
   "metadata": {
    "id": "NhQl8TJ9DPWr"
   },
   "outputs": [],
   "source": [
    "# Visualise the relationship between numerical features and the target variable to understand their impact on the target outcome\n"
   ]
  },
  {
   "cell_type": "markdown",
   "metadata": {
    "id": "TVb5a63HDPWr"
   },
   "source": [
    "## **6. Feature Engineering** <font color = red>[25 marks]</font>"
   ]
  },
  {
   "cell_type": "markdown",
   "metadata": {
    "id": "F1-lpq1iDPWs"
   },
   "source": [
    "### **6.1 Perform resampling** <font color=\"red\">[3 Marks]</font>"
   ]
  },
  {
   "cell_type": "markdown",
   "metadata": {
    "id": "vV6fEzAADPWs"
   },
   "source": [
    "Handle class imbalance in the training data by applying resampling technique.\n",
    "\n",
    "Use the **RandomOverSampler** technique to balance the data and handle class imbalance. This method increases the number of samples in the minority class by randomly duplicating them, creating synthetic data points with similar characteristics. This helps prevent the model from being biased toward the majority class and improves its ability to predict the minority class more accurately.\n",
    "\n",
    "**Note:** You can try other resampling techniques to handle class imbalance"
   ]
  },
  {
   "cell_type": "code",
   "execution_count": null,
   "metadata": {
    "id": "ijz0X5bGDPWs"
   },
   "outputs": [],
   "source": [
    "# Import RandomOverSampler from imblearn library\n",
    "from imblearn.over_sampling import RandomOverSampler\n",
    "\n",
    "# Perform resampling on training data\n"
   ]
  },
  {
   "cell_type": "markdown",
   "metadata": {
    "id": "IQ7nY4SLDPWs"
   },
   "source": [
    "### **6.2 Feature Creation** <font color=\"red\">[4 marks]</font>"
   ]
  },
  {
   "cell_type": "markdown",
   "metadata": {
    "id": "PdDUn_sVDPWs"
   },
   "source": [
    "Create new features from existing ones to enhance the model's ability to capture patterns in the data. This may involve deriving features from date/time columns, combining features, or creating interaction terms."
   ]
  },
  {
   "cell_type": "code",
   "execution_count": null,
   "metadata": {
    "id": "beiDdjl7DPWs"
   },
   "outputs": [],
   "source": [
    "# Create new features based on your understanding for both training and validation data\n"
   ]
  },
  {
   "cell_type": "markdown",
   "metadata": {
    "id": "NbQ6FhLUDPWt"
   },
   "source": [
    "### **6.3 Handle redundant columns** <font color=\"red\">[3 marks]</font>"
   ]
  },
  {
   "cell_type": "markdown",
   "metadata": {
    "id": "zs_uzd9VDPWt"
   },
   "source": [
    "Analyse the data to identify features that may be redundant or contribute minimal information toward predicting the target variable and drop them.\n",
    "\n",
    "- You can consider features that exhibit high correlation with other variables, which you may have observed during the EDA phase.\n",
    "- Features that don't strongly influence the prediction, which you may have observed during the EDA phase.\n",
    "- Categorical columns with low value counts for some levels can be remapped to reduce number of unique levels, and features with very high counts for just one level may be removed, as they resemble unique identifier columns and do not provide substantial predictive value.\n",
    "- Additionally, eliminate any columns from which the necessary features have already been extracted in the preceding step."
   ]
  },
  {
   "cell_type": "code",
   "execution_count": null,
   "metadata": {
    "id": "9Fy0Rw1BDPWt"
   },
   "outputs": [],
   "source": [
    "# Drop redundant columns from training and validation data\n"
   ]
  },
  {
   "cell_type": "code",
   "execution_count": null,
   "metadata": {
    "id": "RVYVBV27DPWt"
   },
   "outputs": [],
   "source": [
    "# Check the data\n"
   ]
  },
  {
   "cell_type": "markdown",
   "metadata": {
    "id": "SxA7dZ0UDPWt"
   },
   "source": [
    "### **6.4 Combine values in Categorical Columns** <font color=\"red\">[6 Marks]</font>\n",
    "During the EDA process, categorical columns with multiple unique values may be identified. To enhance model performance, it is essential to refine these categorical features by grouping values that have low frequency or provide limited predictive information.\n",
    "\n",
    "Combine categories that occur infrequently or exhibit similar behavior to reduce sparsity and improve model generalisation."
   ]
  },
  {
   "cell_type": "code",
   "execution_count": null,
   "metadata": {
    "id": "-OF7Y35dDPWt"
   },
   "outputs": [],
   "source": [
    "# Combine categories that have low frequency or provide limited predictive information\n"
   ]
  },
  {
   "cell_type": "markdown",
   "metadata": {
    "id": "C2vnyJqYDPWt"
   },
   "source": [
    "### **6.5 Dummy variable creation** <font color=\"red\">[6 Marks]</font>\n",
    "Transform categorical variables into numerical representations using dummy variables. Ensure consistent encoding between training and validation data."
   ]
  },
  {
   "cell_type": "markdown",
   "metadata": {
    "id": "pQHnbRB_DPWt"
   },
   "source": [
    "#### **6.5.1** Identify categorical columns for dummy variable creation <font color=\"red\">[1 Mark]</font>"
   ]
  },
  {
   "cell_type": "code",
   "execution_count": null,
   "metadata": {
    "id": "YCR73H4VDPWt"
   },
   "outputs": [],
   "source": [
    "# Identify the categorical columns for creating dummy variables\n"
   ]
  },
  {
   "cell_type": "markdown",
   "metadata": {
    "id": "ZcCgF0lsDPWu"
   },
   "source": [
    "#### **6.5.2** Create dummy variables for categorical columns in training data <font color=\"red\">[2 Marks]</font>"
   ]
  },
  {
   "cell_type": "code",
   "execution_count": null,
   "metadata": {
    "id": "JA8seldpDPWu"
   },
   "outputs": [],
   "source": [
    "# Create dummy variables using the 'get_dummies' for categorical columns in training data\n"
   ]
  },
  {
   "cell_type": "markdown",
   "metadata": {
    "id": "cbLlOiYcDPWu"
   },
   "source": [
    "#### **6.5.3** Create dummy variables for categorical columns in validation data <font color=\"red\">[2 Marks]</font>"
   ]
  },
  {
   "cell_type": "code",
   "execution_count": null,
   "metadata": {
    "id": "zvQ4n9yaDPWu"
   },
   "outputs": [],
   "source": [
    "# Create dummy variables using the 'get_dummies' for categorical columns in validation data\n"
   ]
  },
  {
   "cell_type": "markdown",
   "metadata": {
    "id": "tg5crIDKDPWu"
   },
   "source": [
    "#### **6.5.4** Create dummy variable for dependent feature in training and validation data <font color = \"red\">[1 Mark]</font>"
   ]
  },
  {
   "cell_type": "code",
   "execution_count": null,
   "metadata": {
    "id": "LyreaJQXDPWu"
   },
   "outputs": [],
   "source": [
    "# Create dummy variable for dependent feature in training data\n",
    "\n",
    "# Create dummy variable for dependent feature in validation data\n"
   ]
  },
  {
   "cell_type": "markdown",
   "metadata": {
    "id": "USXyE8QSDPWu"
   },
   "source": [
    "### **6.6 Feature scaling** <font color = red>[3 marks]</font>\n",
    "Scale numerical features to a common range to prevent features with larger values from dominating the model.  Choose a scaling method appropriate for the data and the chosen model. Apply the same scaling to both training and validation data."
   ]
  },
  {
   "cell_type": "code",
   "execution_count": null,
   "metadata": {
    "id": "VfE4LXqXDPWu"
   },
   "outputs": [],
   "source": [
    "# Import the necessary scaling tool from scikit-learn\n",
    "\n",
    "# Scale the numeric features present in the training data\n",
    "\n",
    "# Scale the numeric features present in the validation data\n"
   ]
  },
  {
   "cell_type": "markdown",
   "metadata": {
    "id": "pqIhEkpxDPWu"
   },
   "source": [
    "## **7. Model Building** <font color = red>[50 marks]</font>"
   ]
  },
  {
   "cell_type": "markdown",
   "metadata": {
    "id": "i2OLtpZWUmgS"
   },
   "source": [
    "In this task, you will be building two machine learning models: Logistic Regression and Random Forest. Each model will go through a structured process to ensure optimal performance. The key steps for each model are outlined below:\n",
    "\n",
    "**Logistic Regression Model**\n",
    "- Feature Selection using RFECV – Identify the most relevant features using Recursive Feature Elimination with Cross-Validation.\n",
    "- Model Building and Multicollinearity Assessment – Build the logistic regression model and analyse statistical aspects such as p-values and VIFs to detect multicollinearity.\n",
    "- Model Training and Evaluation on Training Data – Fit the model on the training data and assess initial performance.\n",
    "- Finding the Optimal Cutoff – Determine the best probability threshold by analysing the sensitivity-specificity tradeoff and precision-recall tradeoff.\n",
    "- FInal Prediction and Evaluation on Training Data using the Optimal Cutoff – Generate final predictions using the selected cutoff and evaluate model performance.\n",
    "\n",
    "**Random Forest Model**\n",
    "- Get Feature Importances - Obtain the importance scores for each feature and select the important features to train the model.\n",
    "- Model Evaluation on Training Data – Assess performance metrics on the training data.\n",
    "- Check Model Overfitting using Cross-Validation – Evaluate generalisation by performing cross-validation.\n",
    "- Hyperparameter Tuning using Grid Search – Optimise model performance by fine-tuning hyperparameters.\n",
    "- Final Model and Evaluation on Training Data – Train the final model using the best parameters and assess its performance."
   ]
  },
  {
   "cell_type": "markdown",
   "metadata": {
    "id": "DwQl23_eDPWx"
   },
   "source": [
    "### **7.1 Feature selection** <font color = red>[4 marks]</font>\n",
    "Identify and select the most relevant features for building a logistic regression model using Recursive Feature Elimination with Cross-Validation (RFECV)."
   ]
  },
  {
   "cell_type": "markdown",
   "metadata": {
    "id": "x7oRIQMhDPWy"
   },
   "source": [
    "#### **7.1.1** Import necessary libraries <font color=\"red\">[1 Mark]</font>"
   ]
  },
  {
   "cell_type": "code",
   "execution_count": null,
   "metadata": {
    "id": "RzQF3EyIDPWy"
   },
   "outputs": [],
   "source": [
    "# Import necessary libraries\n"
   ]
  },
  {
   "cell_type": "markdown",
   "metadata": {
    "id": "j1sHmcZKDPWy"
   },
   "source": [
    "#### **7.1.2** Perform feature selection <font color=\"red\">[2 Mark]</font>"
   ]
  },
  {
   "cell_type": "code",
   "execution_count": null,
   "metadata": {
    "id": "NKRnzy8sDPWy"
   },
   "outputs": [],
   "source": [
    "# Apply RFECV to identify the most relevant features\n"
   ]
  },
  {
   "cell_type": "code",
   "execution_count": null,
   "metadata": {
    "id": "1I0kn-9qDPWy"
   },
   "outputs": [],
   "source": [
    "# Display the features ranking by RFECV in a DataFrame\n"
   ]
  },
  {
   "cell_type": "markdown",
   "metadata": {
    "id": "KKdXnylEDPWz"
   },
   "source": [
    "#### **7.1.2** Retain the selected features <font color=\"red\">[1 Mark]</font>"
   ]
  },
  {
   "cell_type": "code",
   "execution_count": null,
   "metadata": {
    "id": "Q8TkAe72DPWz"
   },
   "outputs": [],
   "source": [
    "# Put columns selected by RFECV into variable 'col'\n"
   ]
  },
  {
   "cell_type": "markdown",
   "metadata": {
    "id": "J8zNEaKcDPWz"
   },
   "source": [
    "### **7.2 Build Logistic Regression Model** <font color = red>[12 marks]</font>\n",
    "After selecting the optimal features using RFECV, utilise these features to build a logistic regression model with Statsmodels. This approach enables a detailed statistical analysis of the model, including the assessment of p-values and Variance Inflation Factors (VIFs). Evaluating these metrics is crucial for detecting multicollinearity and ensuring that the selected predictors are not highly correlated."
   ]
  },
  {
   "cell_type": "markdown",
   "metadata": {
    "id": "xXwl9DO3DPWz"
   },
   "source": [
    "#### **7.2.1** Select relevant features and add constant in training data <font color=\"red\">[1 Mark]</font>"
   ]
  },
  {
   "cell_type": "code",
   "execution_count": null,
   "metadata": {
    "id": "kF5g0yScDPWz"
   },
   "outputs": [],
   "source": [
    "# Select only the columns selected by RFECV\n"
   ]
  },
  {
   "cell_type": "code",
   "execution_count": null,
   "metadata": {
    "id": "aBzSiNhrDPWz"
   },
   "outputs": [],
   "source": [
    "# Import statsmodels and add constant\n",
    "\n",
    "# Check the data\n"
   ]
  },
  {
   "cell_type": "markdown",
   "metadata": {
    "id": "jc9wYqe8DPW0"
   },
   "source": [
    "#### **7.2.2** Fit logistic regression model <font color=\"red\">[2 Marks]</font>"
   ]
  },
  {
   "cell_type": "code",
   "execution_count": null,
   "metadata": {
    "id": "2VTpvsZsDPW0"
   },
   "outputs": [],
   "source": [
    "# Fit a logistic Regression model on X_train after adding a constant and output the summary\n"
   ]
  },
  {
   "cell_type": "markdown",
   "metadata": {
    "id": "XBd9hyWgDPW0"
   },
   "source": [
    "**Model Interpretation**\n",
    "\n",
    "The output summary table will provide the features used for building model along with coefficient of each of the feature and their p-value. The p-value in a logistic regression model is used to assess the statistical significance of each coefficient. Lesser the p-value, more significant the feature is in the model.\n",
    "\n",
    "A positive coefficient will indicate that an increase in the value of feature would increase the odds of the event occurring. On the other hand, a negative coefficient means the opposite, i.e, an increase in the value of feature would decrease the odds of the event occurring."
   ]
  },
  {
   "cell_type": "markdown",
   "metadata": {
    "id": "VnhgDNCNDPW0"
   },
   "source": [
    "Now check VIFs for presence of multicollinearity in the model."
   ]
  },
  {
   "cell_type": "markdown",
   "metadata": {
    "id": "xLTRjCqCDPW0"
   },
   "source": [
    "#### **7.2.3** Evaluate VIF of features to assess multicollinearity <font color=\"red\">[2 Marks]</font>"
   ]
  },
  {
   "cell_type": "code",
   "execution_count": null,
   "metadata": {
    "id": "MOIppRgGDPW0"
   },
   "outputs": [],
   "source": [
    "# Import 'variance_inflation_factor'\n",
    "from statsmodels.stats.outliers_influence import variance_inflation_factor"
   ]
  },
  {
   "cell_type": "code",
   "execution_count": null,
   "metadata": {
    "id": "Xwb2dA9XDPW0"
   },
   "outputs": [],
   "source": [
    "# Make a VIF DataFrame for all the variables present\n"
   ]
  },
  {
   "cell_type": "markdown",
   "metadata": {
    "id": "2RMrfSNPDPW1"
   },
   "source": [
    "Proceed to the next step if p-values and VIFs are within acceptable ranges. If you observe high p-values or VIFs, drop the features and retrain the model. <font color=\"red\">[THIS IS OPTIONAL]</font>"
   ]
  },
  {
   "cell_type": "markdown",
   "metadata": {
    "id": "68j2g6bRDPW1"
   },
   "source": [
    "#### **7.2.4** Make predictions on training data <font color = \"red\">[1 Mark]</font>"
   ]
  },
  {
   "cell_type": "code",
   "execution_count": null,
   "metadata": {
    "id": "5DT1M3O9DPW1"
   },
   "outputs": [],
   "source": [
    "# Predict the probabilities on the training data\n",
    "\n",
    "# Reshape it into an array\n"
   ]
  },
  {
   "cell_type": "markdown",
   "metadata": {
    "id": "_j4gJDUzDPW1"
   },
   "source": [
    "#### **7.2.5** Create a DataFrame that includes actual fraud reported flags, predicted probabilities, and a column indicating predicted classifications based on a cutoff value of 0.5 <font color=\"red\">[1 Mark]</font>\n",
    "\n"
   ]
  },
  {
   "cell_type": "code",
   "execution_count": null,
   "metadata": {
    "id": "nDaW7LS_DPW1"
   },
   "outputs": [],
   "source": [
    "# Create a new DataFrame containing the actual fraud reported flag and the probabilities predicted by the model\n",
    "\n",
    "# Create new column indicating predicted classifications based on a cutoff value of 0.5\n"
   ]
  },
  {
   "cell_type": "markdown",
   "metadata": {
    "id": "6rXpNOgtDPW1"
   },
   "source": [
    "**Model performance evaluation**\n",
    "\n",
    "Evaluate the performance of the model based on predictions made on the training data."
   ]
  },
  {
   "cell_type": "markdown",
   "metadata": {
    "id": "cornkRdjDPW2"
   },
   "source": [
    "#### **7.2.6** Check the accuracy of the model <font color = \"red\">[1 Mark]</font>"
   ]
  },
  {
   "cell_type": "code",
   "execution_count": null,
   "metadata": {
    "id": "w0tyT2xgDPW2"
   },
   "outputs": [],
   "source": [
    "# Import metrics from sklearn for evaluation\n",
    "from sklearn import metrics\n",
    "\n",
    "# Check the accuracy of the model\n"
   ]
  },
  {
   "cell_type": "markdown",
   "metadata": {
    "id": "mQPieExsDPW2"
   },
   "source": [
    "#### **7.2.7** Create a confusion matrix based on the predictions made on the training data <font color=\"red\">[1 Mark]</font>"
   ]
  },
  {
   "cell_type": "code",
   "execution_count": null,
   "metadata": {
    "id": "1v1XZbNkDPW2"
   },
   "outputs": [],
   "source": [
    "# Create confusion matrix\n"
   ]
  },
  {
   "cell_type": "markdown",
   "metadata": {
    "id": "CVWR_SjqKPQF"
   },
   "source": [
    "#### **7.2.8** Create variables for true positive, true negative, false positive and false negative <font color=\"red\">[1 Mark]</font>"
   ]
  },
  {
   "cell_type": "code",
   "execution_count": null,
   "metadata": {
    "id": "JaXLtV-HKPgY"
   },
   "outputs": [],
   "source": [
    "# Create variables for true positive, true negative, false positive and false negative\n"
   ]
  },
  {
   "cell_type": "markdown",
   "metadata": {
    "id": "UkO5we1NDPW3"
   },
   "source": [
    "#### **7.2.9** Calculate sensitivity, specificity, precision, recall and F1-score <font color=\"red\">[2 Marks]</font>"
   ]
  },
  {
   "cell_type": "code",
   "execution_count": null,
   "metadata": {
    "id": "K5GpJK5CDPW3"
   },
   "outputs": [],
   "source": [
    "# Calculate the sensitivity\n",
    "\n",
    "\n",
    "# Calculate the specificity\n",
    "\n",
    "\n",
    "# Calculate Precision\n",
    "\n",
    "\n",
    "# Calculate Recall\n",
    "\n",
    "\n",
    "# Calculate F1 Score\n"
   ]
  },
  {
   "cell_type": "markdown",
   "metadata": {
    "id": "gIFdLeULDPW4"
   },
   "source": [
    "### **7.3 Find the Optimal Cutoff** <font color = red>[12 marks]</font>\n",
    "Find the optimal cutoff to improve model performance by evaluating various cutoff values and their impact on relevant metrics."
   ]
  },
  {
   "cell_type": "markdown",
   "metadata": {
    "id": "-un_98BlDPW4"
   },
   "source": [
    "#### **7.3.1** Plot ROC Curve  to visualise the trade-off between true positive rate and false positive rate across different classification thresholds <font color=\"red\">[2 Marks]</font>"
   ]
  },
  {
   "cell_type": "code",
   "execution_count": null,
   "metadata": {
    "id": "SfRY65pZDPW5"
   },
   "outputs": [],
   "source": [
    "# Import libraries or function to plot the ROC curve\n",
    "\n",
    "\n",
    "# Define ROC function\n"
   ]
  },
  {
   "cell_type": "code",
   "execution_count": null,
   "metadata": {
    "id": "nGlAWkJDDPW6"
   },
   "outputs": [],
   "source": [
    "# Call the ROC function\n"
   ]
  },
  {
   "cell_type": "markdown",
   "metadata": {
    "id": "cFPV1EBDDPW6"
   },
   "source": [
    "**Sensitivity and Specificity tradeoff**\n",
    "\n",
    "After analysing the area under the curve of the ROC, check the sensitivity and specificity tradeoff to find the optimal cutoff point."
   ]
  },
  {
   "cell_type": "markdown",
   "metadata": {
    "id": "vjcQP2BzDPW6"
   },
   "source": [
    "#### **7.3.2** Predict on training data at various probability cutoffs <font color=\"red\">[1 Mark]</font>"
   ]
  },
  {
   "cell_type": "code",
   "execution_count": null,
   "metadata": {
    "id": "t1UMUMNODPW6"
   },
   "outputs": [],
   "source": [
    "# Create columns with different probability cutoffs to explore the impact of cutoff on model performance\n"
   ]
  },
  {
   "cell_type": "markdown",
   "metadata": {
    "id": "0EFEKx21DPW6"
   },
   "source": [
    "#### **7.3.3** Plot accuracy, sensitivity, specificity at different values of probability cutoffs <font color=\"red\">[2 Marks]</font>"
   ]
  },
  {
   "cell_type": "code",
   "execution_count": null,
   "metadata": {
    "id": "OsjuXoXtDPW6"
   },
   "outputs": [],
   "source": [
    "# Create a DataFrame to see the values of accuracy, sensitivity, and specificity at different values of probability cutoffs\n"
   ]
  },
  {
   "cell_type": "code",
   "execution_count": null,
   "metadata": {
    "id": "z4og5facDPW7"
   },
   "outputs": [],
   "source": [
    "# Plot accuracy, sensitivity, and specificity at different values of probability cutoffs\n"
   ]
  },
  {
   "cell_type": "markdown",
   "metadata": {
    "id": "o6C-ScQ1DPW7"
   },
   "source": [
    "#### **7.3.4** Create a column for final prediction based on optimal cutoff <font color=\"red\">[1 Mark]</font>"
   ]
  },
  {
   "cell_type": "code",
   "execution_count": null,
   "metadata": {
    "id": "1p-z0A9wDPW7"
   },
   "outputs": [],
   "source": [
    "# Create a column for final prediction based on the optimal cutoff\n"
   ]
  },
  {
   "cell_type": "markdown",
   "metadata": {
    "id": "8jEQC7QlDPW7"
   },
   "source": [
    "#### **7.3.5** Calculate the accuracy <font color=\"red\">[1 Mark]</font>"
   ]
  },
  {
   "cell_type": "code",
   "execution_count": null,
   "metadata": {
    "id": "-XARhijiDPW7"
   },
   "outputs": [],
   "source": [
    "# Check the accuracy now\n"
   ]
  },
  {
   "cell_type": "markdown",
   "metadata": {
    "id": "qsgvpYa3DPW-"
   },
   "source": [
    "#### **7.3.6** Create confusion matrix <font color=\"red\">[1 Mark]</font>"
   ]
  },
  {
   "cell_type": "code",
   "execution_count": null,
   "metadata": {
    "id": "tuRtey6YDPW-"
   },
   "outputs": [],
   "source": [
    "# Create the confusion matrix once again\n"
   ]
  },
  {
   "cell_type": "markdown",
   "metadata": {
    "id": "Nbfa0CsbDPW-"
   },
   "source": [
    "#### **7.3.7** Create variables for true positive, true negative, false positive and false negative <font color=\"red\">[1 Mark]</font>"
   ]
  },
  {
   "cell_type": "code",
   "execution_count": null,
   "metadata": {
    "id": "xAQncHXtDPW_"
   },
   "outputs": [],
   "source": [
    "# Create variables for true positive, true negative, false positive and false negative\n"
   ]
  },
  {
   "cell_type": "markdown",
   "metadata": {
    "id": "z7KXFHRnDPW_"
   },
   "source": [
    "#### **7.3.8** Calculate sensitivity, specificity, precision, recall and F1-score of the model <font color=\"red\">[2 Mark]</font>"
   ]
  },
  {
   "cell_type": "code",
   "execution_count": null,
   "metadata": {
    "id": "958ly8K8DPW_"
   },
   "outputs": [],
   "source": [
    "# Calculate the sensitivity\n",
    "\n",
    "\n",
    "# Calculate the specificity\n",
    "\n",
    "\n",
    "# Calculate Precision\n",
    "\n",
    "\n",
    "# Calculate Recall\n",
    "\n",
    "\n",
    "# Calculate F1 Score\n"
   ]
  },
  {
   "cell_type": "markdown",
   "metadata": {
    "id": "_dNjDGtNDPXA"
   },
   "source": [
    "**Precision and Recall tradeoff**\n",
    "\n",
    "Check optimal cutoff value by plotting precision-recall curve, and adjust the cutoff based on precision and recall tradeoff if required."
   ]
  },
  {
   "cell_type": "code",
   "execution_count": null,
   "metadata": {
    "id": "HGKKbLQgDPXA"
   },
   "outputs": [],
   "source": [
    "# Import precision-recall curve function\n",
    "from sklearn.metrics import precision_recall_curve"
   ]
  },
  {
   "cell_type": "markdown",
   "metadata": {
    "id": "G4_-ZTXYDPXB"
   },
   "source": [
    "#### **7.3.9** Plot precision-recall curve <font color=\"red\">[1 Mark]</font>"
   ]
  },
  {
   "cell_type": "code",
   "execution_count": null,
   "metadata": {
    "id": "Wj2qr5FSDPXB"
   },
   "outputs": [],
   "source": [
    "# Plot precision-recall curve\n"
   ]
  },
  {
   "cell_type": "markdown",
   "metadata": {
    "id": "VdNY3cNPDPXB"
   },
   "source": [
    "### **7.4 Build Random Forest Model** <font color = red>[12 marks]</font>\n",
    "Now that you have built a logistic regression model, let's move on to building a random forest model."
   ]
  },
  {
   "cell_type": "markdown",
   "metadata": {
    "id": "sS2Hc10fDPXC"
   },
   "source": [
    "#### **7.4.1** Import necessary libraries"
   ]
  },
  {
   "cell_type": "code",
   "execution_count": null,
   "metadata": {
    "id": "S6duSoHlDPXC"
   },
   "outputs": [],
   "source": [
    "# Import necessary libraries\n",
    "from sklearn.ensemble import RandomForestClassifier\n",
    "from sklearn.metrics import classification_report\n",
    "from sklearn.model_selection import cross_val_score, GridSearchCV"
   ]
  },
  {
   "cell_type": "markdown",
   "metadata": {
    "id": "7Euc5ukLDPXC"
   },
   "source": [
    "#### **7.4.2** Build the random forest model <font color=\"red\">[1 Mark]</font>"
   ]
  },
  {
   "cell_type": "code",
   "execution_count": null,
   "metadata": {
    "id": "3ouCc_YFDPXC"
   },
   "outputs": [],
   "source": [
    "# Build a base random forest model\n"
   ]
  },
  {
   "cell_type": "markdown",
   "metadata": {
    "id": "wr3ExsTgUSKl"
   },
   "source": [
    "#### **7.4.3** Get feature importance scores and select important features <font color=\"red\">[2 Marks]</font>"
   ]
  },
  {
   "cell_type": "code",
   "execution_count": null,
   "metadata": {
    "collapsed": true,
    "id": "eSnQ3xQL__gV",
    "jupyter": {
     "outputs_hidden": true
    }
   },
   "outputs": [],
   "source": [
    "# Get feature importance scores from the trained model\n",
    "\n",
    "# Create a DataFrame to visualise the importance scores\n"
   ]
  },
  {
   "cell_type": "code",
   "execution_count": null,
   "metadata": {
    "id": "yQIR2yUqxNVI"
   },
   "outputs": [],
   "source": [
    "# Select features with high importance scores\n",
    "\n",
    "# Create a new training data with only the selected features\n"
   ]
  },
  {
   "cell_type": "markdown",
   "metadata": {
    "id": "wTzZ1YnhU9Dt"
   },
   "source": [
    "#### **7.4.4** Train the model with selected features <font color=\"red\">[1 Mark]</font>"
   ]
  },
  {
   "cell_type": "code",
   "execution_count": null,
   "metadata": {
    "id": "IeU6JcgJUnPs"
   },
   "outputs": [],
   "source": [
    "# Fit the model on the training data with selected features\n"
   ]
  },
  {
   "cell_type": "markdown",
   "metadata": {
    "id": "g_5Fk-9bDPXG"
   },
   "source": [
    "#### **7.4.5** Generate predictions on the training data <font color=\"red\">[1 Mark]</font>"
   ]
  },
  {
   "cell_type": "code",
   "execution_count": null,
   "metadata": {
    "id": "TO6AGoPFDPXG"
   },
   "outputs": [],
   "source": [
    "# Generate predictions on training data\n"
   ]
  },
  {
   "cell_type": "markdown",
   "metadata": {
    "id": "I5ApUsKlDPXH"
   },
   "source": [
    "#### **7.4.6** Check accuracy of the model <font color=\"red\">[1 Mark]</font>"
   ]
  },
  {
   "cell_type": "code",
   "execution_count": null,
   "metadata": {
    "id": "t2zmn36dDPXH"
   },
   "outputs": [],
   "source": [
    "# Check accuracy of the model\n"
   ]
  },
  {
   "cell_type": "markdown",
   "metadata": {
    "id": "Z_e5FElrDPXH"
   },
   "source": [
    "#### **7.4.7** Create confusion matrix <font color=\"red\">[1 Mark]</font>"
   ]
  },
  {
   "cell_type": "code",
   "execution_count": null,
   "metadata": {
    "id": "NJIGPNTaDPXI"
   },
   "outputs": [],
   "source": [
    "# Create the confusion matrix to visualise the performance\n"
   ]
  },
  {
   "cell_type": "markdown",
   "metadata": {
    "id": "rY3mFM8CDPXI"
   },
   "source": [
    "#### **7.4.8** Create variables for true positive, true negative, false positive and false negative <font color=\"red\">[1 Mark]</font>"
   ]
  },
  {
   "cell_type": "code",
   "execution_count": null,
   "metadata": {
    "id": "l9Ehc0vcDPXI"
   },
   "outputs": [],
   "source": [
    "# Create variables for true positive, true negative, false positive and false negative\n"
   ]
  },
  {
   "cell_type": "markdown",
   "metadata": {
    "id": "_NSOsFxRDPXJ"
   },
   "source": [
    "#### **7.4.9** Calculate sensitivity, specificity, precision, recall and F1-score of the model <font color=\"red\">[2 Marks]</font>"
   ]
  },
  {
   "cell_type": "code",
   "execution_count": null,
   "metadata": {
    "id": "M3wJsKu3DPXJ"
   },
   "outputs": [],
   "source": [
    "# Calculate the sensitivity\n",
    "\n",
    "\n",
    "# Calculate the specificity\n",
    "\n",
    "\n",
    "# Calculate Precision\n",
    "\n",
    "\n",
    "# Calculate Recall\n",
    "\n",
    "\n",
    "# Calculate F1 Score\n"
   ]
  },
  {
   "cell_type": "markdown",
   "metadata": {
    "id": "b6Jax54VDPXJ"
   },
   "source": [
    "#### **7.4.10** Check if the model is overfitting training data using cross validation <font color = \"red\">[2 marks]</font>"
   ]
  },
  {
   "cell_type": "code",
   "execution_count": null,
   "metadata": {
    "id": "42-huob6DPXJ"
   },
   "outputs": [],
   "source": [
    "# Use cross validation to check if the model is overfitting\n"
   ]
  },
  {
   "cell_type": "markdown",
   "metadata": {
    "id": "sNxYrAKZDPXJ"
   },
   "source": [
    "### **7.5 Hyperparameter Tuning** <font color = red>[10 Marks]</font>\n",
    " Enhance the performance of the random forest model by systematically exploring and selecting optimal hyperparameter values using grid search."
   ]
  },
  {
   "cell_type": "markdown",
   "metadata": {
    "id": "UnBcYjbQDPXK"
   },
   "source": [
    "#### **7.5.1** Use grid search to find the best hyperparameter values <font color = red>[2 Marks]</font>"
   ]
  },
  {
   "cell_type": "code",
   "execution_count": null,
   "metadata": {
    "id": "LTLCDfb4DPXK"
   },
   "outputs": [],
   "source": [
    "# Use grid search to find the best hyperparamter values\n",
    "\n",
    "# Best Hyperparameters\n"
   ]
  },
  {
   "cell_type": "markdown",
   "metadata": {
    "id": "vrGoY46TDPXK"
   },
   "source": [
    "#### **7.5.2** Build a random forest model based on hyperparameter tuning results <font color = red>[1 Mark]</font>"
   ]
  },
  {
   "cell_type": "code",
   "execution_count": null,
   "metadata": {
    "id": "2yxPaaDxDPXK"
   },
   "outputs": [],
   "source": [
    "# Building random forest model based on results of hyperparameter tuning\n"
   ]
  },
  {
   "cell_type": "markdown",
   "metadata": {
    "id": "IJ4gQ2m0DPXK"
   },
   "source": [
    "#### **7.5.3** Make predictions on training data <font color = red>[1 Mark]</font>"
   ]
  },
  {
   "cell_type": "code",
   "execution_count": null,
   "metadata": {
    "id": "hTE3p2rCDPXL"
   },
   "outputs": [],
   "source": [
    "# Make predictions on training data\n"
   ]
  },
  {
   "cell_type": "markdown",
   "metadata": {
    "id": "fbfSJpEuDPXL"
   },
   "source": [
    "#### **7.5.4** Check accuracy of Random Forest Model <font color = red>[1 Mark]</font>"
   ]
  },
  {
   "cell_type": "code",
   "execution_count": null,
   "metadata": {
    "id": "ItpV-JYkDPXL"
   },
   "outputs": [],
   "source": [
    "# Check the accuracy\n"
   ]
  },
  {
   "cell_type": "markdown",
   "metadata": {
    "id": "l-t6Hme3DPXL"
   },
   "source": [
    "#### **7.5.5** Create confusion matrix <font color = red>[1 Mark]</font>"
   ]
  },
  {
   "cell_type": "code",
   "execution_count": null,
   "metadata": {
    "id": "MdteUZXzDPXL"
   },
   "outputs": [],
   "source": [
    "# Create the confusion matrix\n"
   ]
  },
  {
   "cell_type": "markdown",
   "metadata": {
    "id": "jEUtsRafDPXL"
   },
   "source": [
    "#### **7.5.6** Create variables for true positive, true negative, false positive and false negative <font color = red>[1 Mark]</font>"
   ]
  },
  {
   "cell_type": "code",
   "execution_count": null,
   "metadata": {
    "id": "0aeUhFSWDPXM"
   },
   "outputs": [],
   "source": [
    "# Create variables for true positive, true negative, false positive and false negative\n"
   ]
  },
  {
   "cell_type": "markdown",
   "metadata": {
    "id": "nwDnBdjnDPXM"
   },
   "source": [
    "#### **7.5.7** Calculate sensitivity, specificity, precision, recall and F1-score of the model <font color = red>[3 Marks]</font>"
   ]
  },
  {
   "cell_type": "code",
   "execution_count": null,
   "metadata": {
    "id": "KxPHj1NjDPXM"
   },
   "outputs": [],
   "source": [
    "# Calculate the sensitivity\n",
    "\n",
    "\n",
    "# Calculate the specificity\n",
    "\n",
    "\n",
    "# Calculate Precision\n",
    "\n",
    "\n",
    "# Calculate Recall\n",
    "\n",
    "\n",
    "# Calculate F1-Score\n"
   ]
  },
  {
   "cell_type": "markdown",
   "metadata": {
    "id": "yUEvyADyDPXM"
   },
   "source": [
    "## **8. Prediction and Model Evaluation** <font color = red>[20 marks]</font>\n",
    "Use the model from the previous step to make predictions on the validation data with the optimal cutoff. Then evaluate the model's performance using metrics such as accuracy, sensitivity, specificity, precision, and recall."
   ]
  },
  {
   "cell_type": "markdown",
   "metadata": {
    "id": "EQuMB-P1DPXM"
   },
   "source": [
    "### **8.1 Make predictions over validation data using logistic regression model** <font color = red>[10 marks]</font>"
   ]
  },
  {
   "cell_type": "markdown",
   "metadata": {
    "id": "Wuz5v3TYDPXM"
   },
   "source": [
    "#### **8.1.1** Select relevant features for validation data and add constant <font color=\"red\">[1 Mark]</font>"
   ]
  },
  {
   "cell_type": "code",
   "execution_count": null,
   "metadata": {
    "id": "_AbB-x3aDPXM"
   },
   "outputs": [],
   "source": [
    "# Select the relevant features for validation data\n",
    "\n",
    "# Add constant to X_validation\n"
   ]
  },
  {
   "cell_type": "markdown",
   "metadata": {
    "id": "pzpawlMLDPXM"
   },
   "source": [
    "#### **8.1.2** Make predictions over validation data <font color=\"red\">[1 Mark]</font>"
   ]
  },
  {
   "cell_type": "code",
   "execution_count": null,
   "metadata": {
    "id": "9CmoAZJODPXM"
   },
   "outputs": [],
   "source": [
    "# Make predictions on the validation data and store it in the variable 'y_validation_pred'\n"
   ]
  },
  {
   "cell_type": "markdown",
   "metadata": {
    "id": "r8qyn8xvDPXM"
   },
   "source": [
    "#### **8.1.3** Create DataFrame with actual values and predicted values for validation data <font color=\"red\">[2 Marks]</font>"
   ]
  },
  {
   "cell_type": "code",
   "execution_count": null,
   "metadata": {
    "id": "9Zx8RBFVDPXN"
   },
   "outputs": [],
   "source": [
    "#  Create DataFrame with actual values and predicted values for validation data\n"
   ]
  },
  {
   "cell_type": "markdown",
   "metadata": {
    "id": "G_kC6wEPDPXN"
   },
   "source": [
    "#### **8.1.4** Make final prediction based on cutoff value <font color=\"red\">[1 Mark]</font>"
   ]
  },
  {
   "cell_type": "code",
   "execution_count": null,
   "metadata": {
    "id": "4ge-EC74DPXN"
   },
   "outputs": [],
   "source": [
    "# Make final predictions on the validation data using the optimal cutoff\n"
   ]
  },
  {
   "cell_type": "markdown",
   "metadata": {
    "id": "bt7sm55QDPXN"
   },
   "source": [
    "#### **8.1.5** Check the accuracy of logistic regression model on validation data <font color=\"red\">[1 Mark]</font>"
   ]
  },
  {
   "cell_type": "code",
   "execution_count": null,
   "metadata": {
    "id": "81tEKwwsDPXN"
   },
   "outputs": [],
   "source": [
    "# Check the accuracy\n"
   ]
  },
  {
   "cell_type": "markdown",
   "metadata": {
    "id": "RE8ZnagdDPXN"
   },
   "source": [
    "#### **8.1.6** Create confusion matrix <font color=\"red\">[1 Mark]</font>"
   ]
  },
  {
   "cell_type": "code",
   "execution_count": null,
   "metadata": {
    "id": "NjkkexqrDPXN"
   },
   "outputs": [],
   "source": [
    "# Create the confusion matrix\n"
   ]
  },
  {
   "cell_type": "markdown",
   "metadata": {
    "id": "SSqBZOrYDPXN"
   },
   "source": [
    "#### **8.1.7** Create variables for true positive, true negative, false positive and false negative <font color=\"red\">[1 Mark]</font>"
   ]
  },
  {
   "cell_type": "code",
   "execution_count": null,
   "metadata": {
    "id": "NzH_sFeoDPXN"
   },
   "outputs": [],
   "source": [
    "# Create variables for true positive, true negative, false positive and false negative\n"
   ]
  },
  {
   "cell_type": "markdown",
   "metadata": {
    "id": "_Mkn6DUwDPXN"
   },
   "source": [
    "#### **8.1.8** Calculate sensitivity, specificity, precision, recall and f1 score of the model <font color=\"red\">[2 Marks]</font>"
   ]
  },
  {
   "cell_type": "code",
   "execution_count": null,
   "metadata": {
    "id": "FCqNW4t3DPXO"
   },
   "outputs": [],
   "source": [
    "# Calculate the sensitivity\n",
    "\n",
    "\n",
    "# Calculate the specificity\n",
    "\n",
    "\n",
    "# Calculate Precision\n",
    "\n",
    "\n",
    "# Calculate Recall\n",
    "\n",
    "\n",
    "# Calculate F1 Score\n"
   ]
  },
  {
   "cell_type": "markdown",
   "metadata": {
    "id": "1wTVm8V_DPXO"
   },
   "source": [
    "### **8.2 Make predictions over validation data using random forest model** <font color = red>[10 marks]</font>"
   ]
  },
  {
   "cell_type": "markdown",
   "metadata": {
    "id": "UDgbDTfIDPXO"
   },
   "source": [
    "#### **8.2.1** Select the important features and make predictions over validation data <font color=\"red\">[2 Marks]</font>"
   ]
  },
  {
   "cell_type": "code",
   "execution_count": null,
   "metadata": {
    "id": "RhtKprsQDPXO"
   },
   "outputs": [],
   "source": [
    "# Select the relevant features for validation data\n",
    "\n",
    "# Make predictions on the validation data\n"
   ]
  },
  {
   "cell_type": "markdown",
   "metadata": {
    "id": "bUbtP7CADPXO"
   },
   "source": [
    "#### **8.2.2** Check accuracy of random forest model <font color=\"red\">[1 Mark]</font>"
   ]
  },
  {
   "cell_type": "code",
   "execution_count": null,
   "metadata": {
    "id": "bJyVOpLlDPXO"
   },
   "outputs": [],
   "source": [
    "# Check accuracy\n"
   ]
  },
  {
   "cell_type": "markdown",
   "metadata": {
    "id": "spUa4VBfDPXO"
   },
   "source": [
    "#### **8.2.3** Create confusion matrix <font color=\"red\">[1 Mark]</font>"
   ]
  },
  {
   "cell_type": "code",
   "execution_count": null,
   "metadata": {
    "id": "eXJVNVrSDPXO"
   },
   "outputs": [],
   "source": [
    "# Create the confusion matrix\n"
   ]
  },
  {
   "cell_type": "markdown",
   "metadata": {
    "id": "HuUdgVYSDPXO"
   },
   "source": [
    "#### **8.2.4** Create variables for true positive, true negative, false positive and false negative <font color=\"red\">[1 Mark]</font>"
   ]
  },
  {
   "cell_type": "code",
   "execution_count": null,
   "metadata": {
    "id": "UT7lU5CWDPXO"
   },
   "outputs": [],
   "source": [
    "# Create variables for true positive, true negative, false positive and false negative\n"
   ]
  },
  {
   "cell_type": "markdown",
   "metadata": {
    "id": "YAjovvF4DPXO"
   },
   "source": [
    "#### **8.2.5** Calculate sensitivity, specificity, precision, recall and F1-score of the model <font color=\"red\">[5 Marks]</font>"
   ]
  },
  {
   "cell_type": "code",
   "execution_count": null,
   "metadata": {
    "id": "C1PYzDaWDPXO"
   },
   "outputs": [],
   "source": [
    "# Calculate Sensitivity\n",
    "\n",
    "\n",
    "# Calculate Specificity\n",
    "\n",
    "\n",
    "# Calculate Precision\n",
    "\n",
    "\n",
    "# Calculate Recall\n",
    "\n",
    "\n",
    "# Calculate F1-score\n"
   ]
  },
  {
   "cell_type": "markdown",
   "metadata": {
    "id": "nENAdFWhDPXP"
   },
   "source": [
    "## **Evaluation and Conclusion**\n",
    "Write the conclusion."
   ]
  }
 ],
 "metadata": {
  "colab": {
   "provenance": [
    {
     "file_id": "1SIhxHs7kl3qt0VU3gGAAt_k_NQTvuqmc",
     "timestamp": 1740041215388
    },
    {
     "file_id": "1wef6jk_PrklarfJ5GA9FoyCAiKkArPCw",
     "timestamp": 1739780524071
    }
   ],
   "toc_visible": true
  },
  "kernelspec": {
   "display_name": "Python 3 (ipykernel)",
   "language": "python",
   "name": "python3"
  },
  "language_info": {
   "codemirror_mode": {
    "name": "ipython",
    "version": 3
   },
   "file_extension": ".py",
   "mimetype": "text/x-python",
   "name": "python",
   "nbconvert_exporter": "python",
   "pygments_lexer": "ipython3",
   "version": "3.12.4"
  }
 },
 "nbformat": 4,
 "nbformat_minor": 4
}
